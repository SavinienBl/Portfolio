{
 "cells": [
  {
   "cell_type": "markdown",
   "metadata": {},
   "source": [
    "# Рекомендация тарифов"
   ]
  },
  {
   "cell_type": "markdown",
   "metadata": {},
   "source": [
    "В вашем распоряжении данные о поведении клиентов, которые уже перешли на эти тарифы (из проекта курса «Статистический анализ данных»). Нужно построить модель для задачи классификации, которая выберет подходящий тариф. Предобработка данных не понадобится — вы её уже сделали.\n",
    "\n",
    "Постройте модель с максимально большим значением *accuracy*. Чтобы сдать проект успешно, нужно довести долю правильных ответов по крайней мере до 0.75. Проверьте *accuracy* на тестовой выборке самостоятельно."
   ]
  },
  {
   "cell_type": "markdown",
   "metadata": {},
   "source": [
    "Инструкция по выполнению проекта\n",
    "* \t\tОткройте файл с данными и изучите его. Путь к файлу: /datasets/users_behavior.csv. Скачать датасет\n",
    "* \t\tРазделите исходные данные на обучающую, валидационную и тестовую выборки.\n",
    "* \t\tИсследуйте качество разных моделей, меняя гиперпараметры. Кратко напишите выводы исследования.\n",
    "* \t\tПроверьте качество модели на тестовой выборке.\n",
    "* \t\tДополнительное задание: проверьте модели на вменяемость. Ничего страшного, если не получится: эти данные сложнее тех, с которыми вы работали раньше. В следующем курсе подробнее об этом расскажем.\n",
    "#### Описание данных\n",
    "Каждый объект в наборе данных — это информация о поведении одного пользователя за месяц."
   ]
  },
  {
   "cell_type": "markdown",
   "metadata": {},
   "source": [
    "## Обозначения\n",
    "* \t\tсalls — количество звонков,\n",
    "* \t\tminutes — суммарная длительность звонков в минутах,\n",
    "* \t\tmessages — количество sms-сообщений,\n",
    "* \t\tmb_used — израсходованный интернет-трафик в Мб,\n",
    "* \t\tis_ultra — каким тарифом пользовался в течение месяца («Ультра» — 1, «Смарт» — 0).\n"
   ]
  },
  {
   "cell_type": "code",
   "execution_count": 1,
   "metadata": {},
   "outputs": [
    {
     "name": "stdout",
     "output_type": "stream",
     "text": [
      "Requirement already satisfied: fast_ml in /Users/nikita/opt/anaconda3/lib/python3.9/site-packages (3.68)\r\n"
     ]
    }
   ],
   "source": [
    "import pandas as pd\n",
    "import seaborn as sns\n",
    "from sklearn.tree import DecisionTreeClassifier \n",
    "from sklearn.ensemble import RandomForestClassifier\n",
    "from sklearn.linear_model import LogisticRegression\n",
    "\n",
    "\n",
    "from sklearn.model_selection import train_test_split\n",
    "from sklearn.metrics import accuracy_score\n",
    "from sklearn.preprocessing import StandardScaler\n",
    "from fast_ml.model_development import train_valid_test_split\n",
    "!pip install fast_ml"
   ]
  },
  {
   "cell_type": "markdown",
   "metadata": {},
   "source": [
    "## Откройте и изучите файл"
   ]
  },
  {
   "cell_type": "code",
   "execution_count": 2,
   "metadata": {},
   "outputs": [
    {
     "data": {
      "text/html": [
       "<div>\n",
       "<style scoped>\n",
       "    .dataframe tbody tr th:only-of-type {\n",
       "        vertical-align: middle;\n",
       "    }\n",
       "\n",
       "    .dataframe tbody tr th {\n",
       "        vertical-align: top;\n",
       "    }\n",
       "\n",
       "    .dataframe thead th {\n",
       "        text-align: right;\n",
       "    }\n",
       "</style>\n",
       "<table border=\"1\" class=\"dataframe\">\n",
       "  <thead>\n",
       "    <tr style=\"text-align: right;\">\n",
       "      <th></th>\n",
       "      <th>calls</th>\n",
       "      <th>minutes</th>\n",
       "      <th>messages</th>\n",
       "      <th>mb_used</th>\n",
       "      <th>is_ultra</th>\n",
       "    </tr>\n",
       "  </thead>\n",
       "  <tbody>\n",
       "    <tr>\n",
       "      <th>0</th>\n",
       "      <td>40.0</td>\n",
       "      <td>311.90</td>\n",
       "      <td>83.0</td>\n",
       "      <td>19915.42</td>\n",
       "      <td>0</td>\n",
       "    </tr>\n",
       "    <tr>\n",
       "      <th>1</th>\n",
       "      <td>85.0</td>\n",
       "      <td>516.75</td>\n",
       "      <td>56.0</td>\n",
       "      <td>22696.96</td>\n",
       "      <td>0</td>\n",
       "    </tr>\n",
       "    <tr>\n",
       "      <th>2</th>\n",
       "      <td>77.0</td>\n",
       "      <td>467.66</td>\n",
       "      <td>86.0</td>\n",
       "      <td>21060.45</td>\n",
       "      <td>0</td>\n",
       "    </tr>\n",
       "    <tr>\n",
       "      <th>3</th>\n",
       "      <td>106.0</td>\n",
       "      <td>745.53</td>\n",
       "      <td>81.0</td>\n",
       "      <td>8437.39</td>\n",
       "      <td>1</td>\n",
       "    </tr>\n",
       "    <tr>\n",
       "      <th>4</th>\n",
       "      <td>66.0</td>\n",
       "      <td>418.74</td>\n",
       "      <td>1.0</td>\n",
       "      <td>14502.75</td>\n",
       "      <td>0</td>\n",
       "    </tr>\n",
       "    <tr>\n",
       "      <th>...</th>\n",
       "      <td>...</td>\n",
       "      <td>...</td>\n",
       "      <td>...</td>\n",
       "      <td>...</td>\n",
       "      <td>...</td>\n",
       "    </tr>\n",
       "    <tr>\n",
       "      <th>3209</th>\n",
       "      <td>122.0</td>\n",
       "      <td>910.98</td>\n",
       "      <td>20.0</td>\n",
       "      <td>35124.90</td>\n",
       "      <td>1</td>\n",
       "    </tr>\n",
       "    <tr>\n",
       "      <th>3210</th>\n",
       "      <td>25.0</td>\n",
       "      <td>190.36</td>\n",
       "      <td>0.0</td>\n",
       "      <td>3275.61</td>\n",
       "      <td>0</td>\n",
       "    </tr>\n",
       "    <tr>\n",
       "      <th>3211</th>\n",
       "      <td>97.0</td>\n",
       "      <td>634.44</td>\n",
       "      <td>70.0</td>\n",
       "      <td>13974.06</td>\n",
       "      <td>0</td>\n",
       "    </tr>\n",
       "    <tr>\n",
       "      <th>3212</th>\n",
       "      <td>64.0</td>\n",
       "      <td>462.32</td>\n",
       "      <td>90.0</td>\n",
       "      <td>31239.78</td>\n",
       "      <td>0</td>\n",
       "    </tr>\n",
       "    <tr>\n",
       "      <th>3213</th>\n",
       "      <td>80.0</td>\n",
       "      <td>566.09</td>\n",
       "      <td>6.0</td>\n",
       "      <td>29480.52</td>\n",
       "      <td>1</td>\n",
       "    </tr>\n",
       "  </tbody>\n",
       "</table>\n",
       "<p>3214 rows × 5 columns</p>\n",
       "</div>"
      ],
      "text/plain": [
       "      calls  minutes  messages   mb_used  is_ultra\n",
       "0      40.0   311.90      83.0  19915.42         0\n",
       "1      85.0   516.75      56.0  22696.96         0\n",
       "2      77.0   467.66      86.0  21060.45         0\n",
       "3     106.0   745.53      81.0   8437.39         1\n",
       "4      66.0   418.74       1.0  14502.75         0\n",
       "...     ...      ...       ...       ...       ...\n",
       "3209  122.0   910.98      20.0  35124.90         1\n",
       "3210   25.0   190.36       0.0   3275.61         0\n",
       "3211   97.0   634.44      70.0  13974.06         0\n",
       "3212   64.0   462.32      90.0  31239.78         0\n",
       "3213   80.0   566.09       6.0  29480.52         1\n",
       "\n",
       "[3214 rows x 5 columns]"
      ]
     },
     "execution_count": 2,
     "metadata": {},
     "output_type": "execute_result"
    }
   ],
   "source": [
    "df = pd.read_csv('https://code.s3.yandex.net/datasets/users_behavior.csv')\n",
    "df"
   ]
  },
  {
   "cell_type": "code",
   "execution_count": 3,
   "metadata": {},
   "outputs": [
    {
     "name": "stdout",
     "output_type": "stream",
     "text": [
      "<class 'pandas.core.frame.DataFrame'>\n",
      "RangeIndex: 3214 entries, 0 to 3213\n",
      "Data columns (total 5 columns):\n",
      " #   Column    Non-Null Count  Dtype  \n",
      "---  ------    --------------  -----  \n",
      " 0   calls     3214 non-null   float64\n",
      " 1   minutes   3214 non-null   float64\n",
      " 2   messages  3214 non-null   float64\n",
      " 3   mb_used   3214 non-null   float64\n",
      " 4   is_ultra  3214 non-null   int64  \n",
      "dtypes: float64(4), int64(1)\n",
      "memory usage: 125.7 KB\n"
     ]
    }
   ],
   "source": [
    "df.info()"
   ]
  },
  {
   "cell_type": "markdown",
   "metadata": {},
   "source": [
    "##### Вывод:\n",
    "Так как мы ранее проводили анализ данных и заполняли все пропуски,считаю не нужным углубляться в данные слишком глубоко.\n"
   ]
  },
  {
   "cell_type": "code",
   "execution_count": 4,
   "metadata": {},
   "outputs": [
    {
     "name": "stdout",
     "output_type": "stream",
     "text": [
      "0.9820832355742288\n"
     ]
    }
   ],
   "source": [
    "print(df['calls'].corr(df['minutes']))"
   ]
  },
  {
   "cell_type": "code",
   "execution_count": 5,
   "metadata": {},
   "outputs": [],
   "source": [
    "df = df.drop('minutes',axis=1)\n"
   ]
  },
  {
   "cell_type": "code",
   "execution_count": 6,
   "metadata": {
    "scrolled": false
   },
   "outputs": [
    {
     "data": {
      "image/png": "[encoded data removed]",
      "text/plain": [
       "<Figure size 584.5x540 with 12 Axes>"
      ]
     },
     "metadata": {
      "needs_background": "light"
     },
     "output_type": "display_data"
    }
   ],
   "source": [
    "sns.pairplot(df,hue='is_ultra');"
   ]
  },
  {
   "cell_type": "markdown",
   "metadata": {},
   "source": [
    "## Разбейте данные на выборки"
   ]
  },
  {
   "cell_type": "code",
   "execution_count": 7,
   "metadata": {},
   "outputs": [
    {
     "name": "stdout",
     "output_type": "stream",
     "text": [
      "Requirement already satisfied: fast_ml in /Users/nikita/opt/anaconda3/lib/python3.9/site-packages (3.68)\r\n"
     ]
    }
   ],
   "source": [
    "import pandas as pd\n",
    "from sklearn.model_selection import train_test_split\n",
    "from sklearn.metrics import accuracy_score\n",
    "from sklearn.preprocessing import StandardScaler\n",
    "!pip install fast_ml\n",
    "from fast_ml.model_development import train_valid_test_split"
   ]
  },
  {
   "cell_type": "code",
   "execution_count": 8,
   "metadata": {},
   "outputs": [],
   "source": [
    "#разберем все по признакам \n",
    "features = df.drop(['is_ultra'],axis = 1)\n",
    "target = df['is_ultra']"
   ]
  },
  {
   "cell_type": "code",
   "execution_count": 9,
   "metadata": {},
   "outputs": [],
   "source": [
    "#разобьем все на обучающую, валидационную и тестовую выборки.\n",
    "features_train,features_test,target_train,target_test = train_test_split(features,\n",
    "                                                                           target,\n",
    "                                                                           test_size=0.4,\n",
    "                                                                           random_state=12345)                                                                                                                            \n",
    "                                                       "
   ]
  },
  {
   "cell_type": "code",
   "execution_count": 10,
   "metadata": {},
   "outputs": [
    {
     "name": "stdout",
     "output_type": "stream",
     "text": [
      "(1928, 3)\n",
      "(1928,)\n"
     ]
    }
   ],
   "source": [
    "print(features_train.shape)\n",
    "print(target_train.shape)"
   ]
  },
  {
   "cell_type": "code",
   "execution_count": 11,
   "metadata": {},
   "outputs": [],
   "source": [
    "features_valid,features_test,target_valid,target_test=train_test_split(features_test,\n",
    "                                                                    target_test,\n",
    "                                                                    test_size=0.5,\n",
    "                                                                    random_state=12345\n",
    "                                          )\n",
    " "
   ]
  },
  {
   "cell_type": "code",
   "execution_count": null,
   "metadata": {},
   "outputs": [],
   "source": []
  },
  {
   "cell_type": "code",
   "execution_count": 12,
   "metadata": {},
   "outputs": [
    {
     "name": "stdout",
     "output_type": "stream",
     "text": [
      "(643, 3)\n",
      "(643,)\n"
     ]
    }
   ],
   "source": [
    "print(features_test.shape)\n",
    "print(target_test.shape)"
   ]
  },
  {
   "cell_type": "code",
   "execution_count": 13,
   "metadata": {},
   "outputs": [
    {
     "name": "stdout",
     "output_type": "stream",
     "text": [
      "(643, 3)\n",
      "(643,)\n"
     ]
    }
   ],
   "source": [
    "print(features_valid.shape)\n",
    "print(target_valid.shape)"
   ]
  },
  {
   "cell_type": "markdown",
   "metadata": {},
   "source": [
    "## Исследуйте модели"
   ]
  },
  {
   "cell_type": "code",
   "execution_count": 14,
   "metadata": {},
   "outputs": [],
   "source": [
    "scaler = StandardScaler()\n",
    "scaler.fit(features_train) \n",
    "\n",
    "X_train = scaler.transform(features_train)\n",
    "X_valid = scaler.transform(features_valid)\n",
    "X_test = scaler.transform(features_test)"
   ]
  },
  {
   "cell_type": "markdown",
   "metadata": {},
   "source": [
    "Исследуем модель решающего  дерева"
   ]
  },
  {
   "cell_type": "code",
   "execution_count": 15,
   "metadata": {},
   "outputs": [],
   "source": [
    "best_model = None\n",
    "best_result = 0\n",
    "best_depth = 0\n",
    "for depth in range(1, 11):\n",
    "    model = DecisionTreeClassifier(random_state=12345,max_depth=depth)\n",
    "    model.fit(features_train,target_train)\n",
    "    predictions_valid = model.predict(features_valid)\n",
    "    result =  accuracy_score (target_valid, predictions_valid)\n",
    "    if result > best_result:\n",
    "        best_model = model\n",
    "        best_result = result\n",
    "        best_depth = depth"
   ]
  },
  {
   "cell_type": "code",
   "execution_count": 16,
   "metadata": {},
   "outputs": [
    {
     "name": "stdout",
     "output_type": "stream",
     "text": [
      "Лучшее accuracy на валидационной выборке: 0.7900466562986003\n"
     ]
    }
   ],
   "source": [
    "print(\"Лучшее accuracy на валидационной выборке:\", best_result)"
   ]
  },
  {
   "cell_type": "markdown",
   "metadata": {},
   "source": [
    "Исследуем модель случайного леса"
   ]
  },
  {
   "cell_type": "code",
   "execution_count": 17,
   "metadata": {},
   "outputs": [],
   "source": [
    "best_model = None\n",
    "best_result = 0\n",
    "best_depth = 0\n",
    "for x in range(1, 11):\n",
    "    for depth in range(1, 11):\n",
    "        model = RandomForestClassifier(random_state=12345,max_depth=depth,n_estimators=x)\n",
    "        model.fit(features_train,target_train)\n",
    "        predictions_valid = model.predict(features_valid)\n",
    "        result =  accuracy_score (target_valid, predictions_valid)\n",
    "        if result > best_result:\n",
    "            best_model = model\n",
    "            best_x = x\n",
    "            best_result = result\n",
    "            best_depth = depth\n",
    "        \n"
   ]
  },
  {
   "cell_type": "code",
   "execution_count": 18,
   "metadata": {
    "scrolled": false
   },
   "outputs": [
    {
     "name": "stdout",
     "output_type": "stream",
     "text": [
      "Лучшее accuracy на валидационной выборке: 0.8009331259720062\n",
      "лучшее кол-во деревьев 5\n",
      "Лучшая глубина  7\n"
     ]
    }
   ],
   "source": [
    "print(\"Лучшее accuracy на валидационной выборке:\", best_result)\n",
    "print('лучшее кол-во деревьев',best_x)\n",
    "print('Лучшая глубина ',best_depth)"
   ]
  },
  {
   "cell_type": "markdown",
   "metadata": {},
   "source": [
    "Исследуем моделm логической регрессии "
   ]
  },
  {
   "cell_type": "code",
   "execution_count": 19,
   "metadata": {},
   "outputs": [],
   "source": [
    "model = StandardScaler()\n",
    "model.fit(features_train) \n",
    "\n",
    "features_train = scaler.transform(features_train)\n",
    "features_valid = scaler.transform(features_valid)\n",
    "features_test = scaler.transform(features_test)"
   ]
  },
  {
   "cell_type": "code",
   "execution_count": 20,
   "metadata": {},
   "outputs": [],
   "source": [
    "model = LogisticRegression(random_state=12345,solver='newton-cg',max_iter=1000)\n",
    "model.fit(features_train,target_train)\n",
    "predictions_valid = model.predict(features_valid)\n",
    "result =  accuracy_score (target_valid, predictions_valid)\n"
   ]
  },
  {
   "cell_type": "code",
   "execution_count": 21,
   "metadata": {},
   "outputs": [
    {
     "name": "stdout",
     "output_type": "stream",
     "text": [
      "Лучшее accuracy на валидационной выборке: 0.7511664074650077\n"
     ]
    }
   ],
   "source": [
    "print(\"Лучшее accuracy на валидационной выборке:\", result)"
   ]
  },
  {
   "cell_type": "markdown",
   "metadata": {},
   "source": [
    "### Вывод"
   ]
  },
  {
   "cell_type": "markdown",
   "metadata": {},
   "source": [
    "Лучший показатель мы получили от модели случайного леса, на ней мы и будем проверять тестовую выборку."
   ]
  },
  {
   "cell_type": "markdown",
   "metadata": {},
   "source": [
    "## Проверьте модель на тестовой выборке"
   ]
  },
  {
   "cell_type": "code",
   "execution_count": 22,
   "metadata": {},
   "outputs": [
    {
     "name": "stdout",
     "output_type": "stream",
     "text": [
      "0.7916018662519441\n"
     ]
    }
   ],
   "source": [
    "model_win = RandomForestClassifier(random_state=12345,max_depth=7,n_estimators=5)\n",
    "model_win.fit(features_train,target_train)\n",
    "win_predict = model_win.predict(features_test)\n",
    "accuracy_win = accuracy_score(win_predict,target_test)\n",
    "print(accuracy_win)"
   ]
  },
  {
   "cell_type": "markdown",
   "metadata": {},
   "source": [
    "### Вывод"
   ]
  },
  {
   "cell_type": "markdown",
   "metadata": {},
   "source": [
    "Из исследуемых моделей лучше всего,на валидационной выбрке,себя показала модель случайного леса с показателем в 0.8009331259720062\n",
    "На тестовой выборке модель случайного леса покакзала очень хороший результат в 0.7916018662519441"
   ]
  },
  {
   "cell_type": "markdown",
   "metadata": {},
   "source": [
    "## Чек-лист готовности проекта"
   ]
  },
  {
   "cell_type": "markdown",
   "metadata": {},
   "source": [
    "- [x] Jupyter Notebook открыт\n",
    "- [x] Весь код исполняется без ошибок\n",
    "- [x] Ячейки с кодом расположены в порядке исполнения\n",
    "- [x] Выполнено задание 1: данные загружены и изучены\n",
    "- [X] Выполнено задание 2: данные разбиты на три выборки\n",
    "- [X] Выполнено задание 3: проведено исследование моделей\n",
    "    - [x] Рассмотрено больше одной модели\n",
    "    - [x] Рассмотрено хотя бы 3 значения гипепараметров для какой-нибудь модели\n",
    "    - [x] Написаны выводы по результатам исследования\n",
    "- [x] Выполнено задание 3: Проведено тестирование\n",
    "- [x] Удалось достичь accuracy не меньше 0.75\n"
   ]
  },
  {
   "cell_type": "code",
   "execution_count": null,
   "metadata": {},
   "outputs": [],
   "source": []
  }
 ],
 "metadata": {
  "ExecuteTimeLog": [
   {
    "duration": 1651,
    "start_time": "2022-11-02T07:51:32.107Z"
   },
   {
    "duration": 181,
    "start_time": "2022-11-02T07:51:33.760Z"
   },
   {
    "duration": 11,
    "start_time": "2022-11-02T07:51:33.943Z"
   },
   {
    "duration": 6,
    "start_time": "2022-11-02T07:51:33.956Z"
   },
   {
    "duration": 7,
    "start_time": "2022-11-02T07:51:33.963Z"
   },
   {
    "duration": 7,
    "start_time": "2022-11-02T07:51:33.972Z"
   },
   {
    "duration": 9,
    "start_time": "2022-11-02T07:51:33.980Z"
   },
   {
    "duration": 43,
    "start_time": "2022-11-02T07:51:33.991Z"
   },
   {
    "duration": 7,
    "start_time": "2022-11-02T07:51:34.036Z"
   },
   {
    "duration": 9,
    "start_time": "2022-11-02T07:51:34.046Z"
   },
   {
    "duration": 86,
    "start_time": "2022-11-02T07:51:34.057Z"
   },
   {
    "duration": 4,
    "start_time": "2022-11-02T07:51:34.145Z"
   },
   {
    "duration": 39183,
    "start_time": "2022-11-02T07:51:34.150Z"
   },
   {
    "duration": 3,
    "start_time": "2022-11-02T07:52:13.335Z"
   },
   {
    "duration": 176,
    "start_time": "2022-11-02T07:52:13.339Z"
   },
   {
    "duration": 3,
    "start_time": "2022-11-02T07:52:13.517Z"
   },
   {
    "duration": 1253,
    "start_time": "2022-11-02T07:52:13.521Z"
   },
   {
    "duration": 3,
    "start_time": "2022-11-02T07:52:14.775Z"
   },
   {
    "duration": 67,
    "start_time": "2022-11-02T08:00:56.781Z"
   },
   {
    "duration": 4,
    "start_time": "2022-11-02T08:00:58.120Z"
   },
   {
    "duration": 6,
    "start_time": "2022-11-02T08:08:36.183Z"
   },
   {
    "duration": 79,
    "start_time": "2022-11-02T08:08:39.718Z"
   },
   {
    "duration": 4,
    "start_time": "2022-11-02T08:08:41.446Z"
   },
   {
    "duration": 167,
    "start_time": "2022-11-02T08:12:24.557Z"
   },
   {
    "duration": 167,
    "start_time": "2022-11-02T08:12:31.122Z"
   },
   {
    "duration": 3,
    "start_time": "2022-11-02T08:12:37.133Z"
   },
   {
    "duration": 173,
    "start_time": "2022-11-02T08:17:24.189Z"
   },
   {
    "duration": 186,
    "start_time": "2022-11-02T08:17:30.189Z"
   },
   {
    "duration": 193,
    "start_time": "2022-11-02T08:19:49.674Z"
   },
   {
    "duration": 9,
    "start_time": "2022-11-02T08:20:33.873Z"
   },
   {
    "duration": 9,
    "start_time": "2022-11-02T08:20:57.685Z"
   },
   {
    "duration": 10,
    "start_time": "2022-11-02T08:21:04.420Z"
   },
   {
    "duration": 9,
    "start_time": "2022-11-02T08:34:44.778Z"
   },
   {
    "duration": 17,
    "start_time": "2022-11-02T08:34:51.912Z"
   },
   {
    "duration": 3,
    "start_time": "2022-11-02T08:35:03.249Z"
   },
   {
    "duration": 15,
    "start_time": "2022-11-02T08:38:48.417Z"
   },
   {
    "duration": 1637,
    "start_time": "2022-11-02T08:38:55.533Z"
   },
   {
    "duration": 57,
    "start_time": "2022-11-02T08:38:57.171Z"
   },
   {
    "duration": 12,
    "start_time": "2022-11-02T08:38:57.230Z"
   },
   {
    "duration": 4,
    "start_time": "2022-11-02T08:38:57.244Z"
   },
   {
    "duration": 13,
    "start_time": "2022-11-02T08:38:57.250Z"
   },
   {
    "duration": 9,
    "start_time": "2022-11-02T08:38:57.265Z"
   },
   {
    "duration": 5,
    "start_time": "2022-11-02T08:38:57.276Z"
   },
   {
    "duration": 8,
    "start_time": "2022-11-02T08:38:57.282Z"
   },
   {
    "duration": 8,
    "start_time": "2022-11-02T08:38:57.292Z"
   },
   {
    "duration": 6,
    "start_time": "2022-11-02T08:38:57.302Z"
   },
   {
    "duration": 84,
    "start_time": "2022-11-02T08:38:57.310Z"
   },
   {
    "duration": 3,
    "start_time": "2022-11-02T08:38:57.396Z"
   },
   {
    "duration": 39516,
    "start_time": "2022-11-02T08:38:57.400Z"
   },
   {
    "duration": 4,
    "start_time": "2022-11-02T08:39:36.917Z"
   },
   {
    "duration": 198,
    "start_time": "2022-11-02T08:39:36.923Z"
   },
   {
    "duration": 3,
    "start_time": "2022-11-02T08:39:37.123Z"
   },
   {
    "duration": 1286,
    "start_time": "2022-11-02T08:39:37.134Z"
   },
   {
    "duration": 3,
    "start_time": "2022-11-02T08:39:38.422Z"
   },
   {
    "duration": 50,
    "start_time": "2022-11-02T17:08:36.902Z"
   },
   {
    "duration": 1044,
    "start_time": "2022-11-02T17:08:49.654Z"
   },
   {
    "duration": 56,
    "start_time": "2022-11-02T17:08:50.700Z"
   },
   {
    "duration": 9,
    "start_time": "2022-11-02T17:08:50.758Z"
   },
   {
    "duration": 7,
    "start_time": "2022-11-02T17:08:50.769Z"
   },
   {
    "duration": 12,
    "start_time": "2022-11-02T17:08:50.777Z"
   },
   {
    "duration": 9,
    "start_time": "2022-11-02T17:08:50.791Z"
   },
   {
    "duration": 7,
    "start_time": "2022-11-02T17:08:50.801Z"
   },
   {
    "duration": 4,
    "start_time": "2022-11-02T17:08:50.810Z"
   },
   {
    "duration": 5,
    "start_time": "2022-11-02T17:08:50.816Z"
   },
   {
    "duration": 6,
    "start_time": "2022-11-02T17:08:50.824Z"
   },
   {
    "duration": 8,
    "start_time": "2022-11-02T17:08:50.831Z"
   },
   {
    "duration": 91,
    "start_time": "2022-11-02T17:08:50.841Z"
   },
   {
    "duration": 3,
    "start_time": "2022-11-02T17:08:50.933Z"
   },
   {
    "duration": 40825,
    "start_time": "2022-11-02T17:08:50.938Z"
   },
   {
    "duration": 3,
    "start_time": "2022-11-02T17:09:31.765Z"
   },
   {
    "duration": 149,
    "start_time": "2022-11-02T17:09:31.769Z"
   },
   {
    "duration": 3,
    "start_time": "2022-11-02T17:09:31.920Z"
   },
   {
    "duration": 1273,
    "start_time": "2022-11-02T17:09:31.924Z"
   },
   {
    "duration": 3,
    "start_time": "2022-11-02T17:09:33.199Z"
   },
   {
    "duration": 1069,
    "start_time": "2022-11-02T17:19:46.428Z"
   },
   {
    "duration": 53,
    "start_time": "2022-11-02T17:19:47.499Z"
   },
   {
    "duration": 10,
    "start_time": "2022-11-02T17:19:47.554Z"
   },
   {
    "duration": 10,
    "start_time": "2022-11-02T17:19:47.566Z"
   },
   {
    "duration": 8,
    "start_time": "2022-11-02T17:19:47.578Z"
   },
   {
    "duration": 17,
    "start_time": "2022-11-02T17:19:47.587Z"
   },
   {
    "duration": 7,
    "start_time": "2022-11-02T17:19:47.606Z"
   },
   {
    "duration": 16,
    "start_time": "2022-11-02T17:19:47.615Z"
   },
   {
    "duration": 9,
    "start_time": "2022-11-02T17:19:47.632Z"
   },
   {
    "duration": 11,
    "start_time": "2022-11-02T17:19:47.643Z"
   },
   {
    "duration": 12,
    "start_time": "2022-11-02T17:19:47.655Z"
   },
   {
    "duration": 70,
    "start_time": "2022-11-02T17:19:47.669Z"
   },
   {
    "duration": 3,
    "start_time": "2022-11-02T17:19:47.741Z"
   },
   {
    "duration": 2418,
    "start_time": "2022-11-05T09:56:04.092Z"
   },
   {
    "duration": 89,
    "start_time": "2022-11-05T09:56:06.512Z"
   },
   {
    "duration": 13,
    "start_time": "2022-11-05T09:56:06.602Z"
   },
   {
    "duration": 14,
    "start_time": "2022-11-05T09:56:06.618Z"
   },
   {
    "duration": 18,
    "start_time": "2022-11-05T09:56:06.634Z"
   },
   {
    "duration": 5685,
    "start_time": "2022-11-05T09:56:06.654Z"
   },
   {
    "duration": 303,
    "start_time": "2022-11-05T09:56:12.341Z"
   },
   {
    "duration": 0,
    "start_time": "2022-11-05T09:56:12.646Z"
   },
   {
    "duration": 0,
    "start_time": "2022-11-05T09:56:12.648Z"
   },
   {
    "duration": 0,
    "start_time": "2022-11-05T09:56:12.649Z"
   },
   {
    "duration": 0,
    "start_time": "2022-11-05T09:56:12.650Z"
   },
   {
    "duration": 0,
    "start_time": "2022-11-05T09:56:12.651Z"
   },
   {
    "duration": 0,
    "start_time": "2022-11-05T09:56:12.652Z"
   },
   {
    "duration": 0,
    "start_time": "2022-11-05T09:56:12.653Z"
   },
   {
    "duration": 0,
    "start_time": "2022-11-05T09:56:12.654Z"
   },
   {
    "duration": 0,
    "start_time": "2022-11-05T09:56:12.654Z"
   },
   {
    "duration": 0,
    "start_time": "2022-11-05T09:56:12.656Z"
   },
   {
    "duration": 0,
    "start_time": "2022-11-05T09:56:12.863Z"
   },
   {
    "duration": 0,
    "start_time": "2022-11-05T09:56:12.864Z"
   },
   {
    "duration": 0,
    "start_time": "2022-11-05T09:56:12.866Z"
   },
   {
    "duration": 0,
    "start_time": "2022-11-05T09:56:12.868Z"
   },
   {
    "duration": 0,
    "start_time": "2022-11-05T09:56:12.869Z"
   },
   {
    "duration": 2483,
    "start_time": "2022-11-05T12:50:56.917Z"
   },
   {
    "duration": 90,
    "start_time": "2022-11-05T12:50:59.403Z"
   },
   {
    "duration": 13,
    "start_time": "2022-11-05T12:50:59.495Z"
   },
   {
    "duration": 20,
    "start_time": "2022-11-05T12:50:59.511Z"
   },
   {
    "duration": 13,
    "start_time": "2022-11-05T12:50:59.533Z"
   },
   {
    "duration": 4051,
    "start_time": "2022-11-05T12:50:59.548Z"
   },
   {
    "duration": 126,
    "start_time": "2022-11-05T12:51:03.600Z"
   },
   {
    "duration": 0,
    "start_time": "2022-11-05T12:51:03.732Z"
   },
   {
    "duration": 0,
    "start_time": "2022-11-05T12:51:03.734Z"
   },
   {
    "duration": 0,
    "start_time": "2022-11-05T12:51:03.735Z"
   },
   {
    "duration": 0,
    "start_time": "2022-11-05T12:51:03.737Z"
   },
   {
    "duration": 0,
    "start_time": "2022-11-05T12:51:03.739Z"
   },
   {
    "duration": 0,
    "start_time": "2022-11-05T12:51:03.741Z"
   },
   {
    "duration": 0,
    "start_time": "2022-11-05T12:51:03.743Z"
   },
   {
    "duration": 0,
    "start_time": "2022-11-05T12:51:03.744Z"
   },
   {
    "duration": 0,
    "start_time": "2022-11-05T12:51:03.746Z"
   },
   {
    "duration": 0,
    "start_time": "2022-11-05T12:51:03.748Z"
   },
   {
    "duration": 0,
    "start_time": "2022-11-05T12:51:03.749Z"
   },
   {
    "duration": 0,
    "start_time": "2022-11-05T12:51:03.751Z"
   },
   {
    "duration": 0,
    "start_time": "2022-11-05T12:51:03.752Z"
   },
   {
    "duration": 0,
    "start_time": "2022-11-05T12:51:03.894Z"
   },
   {
    "duration": 0,
    "start_time": "2022-11-05T12:51:03.896Z"
   },
   {
    "duration": 12,
    "start_time": "2022-11-05T12:52:04.134Z"
   },
   {
    "duration": 0,
    "start_time": "2022-11-05T12:52:04.148Z"
   },
   {
    "duration": 0,
    "start_time": "2022-11-05T12:52:04.150Z"
   },
   {
    "duration": 11,
    "start_time": "2022-11-05T12:52:04.152Z"
   },
   {
    "duration": 0,
    "start_time": "2022-11-05T12:52:04.166Z"
   },
   {
    "duration": 0,
    "start_time": "2022-11-05T12:52:04.167Z"
   },
   {
    "duration": 0,
    "start_time": "2022-11-05T12:52:04.168Z"
   },
   {
    "duration": 0,
    "start_time": "2022-11-05T12:52:04.169Z"
   },
   {
    "duration": 0,
    "start_time": "2022-11-05T12:52:04.171Z"
   },
   {
    "duration": 0,
    "start_time": "2022-11-05T12:52:04.172Z"
   },
   {
    "duration": 58,
    "start_time": "2022-11-05T12:52:04.174Z"
   },
   {
    "duration": 0,
    "start_time": "2022-11-05T12:52:04.234Z"
   },
   {
    "duration": 0,
    "start_time": "2022-11-05T12:52:04.235Z"
   },
   {
    "duration": 0,
    "start_time": "2022-11-05T12:52:04.236Z"
   },
   {
    "duration": 0,
    "start_time": "2022-11-05T12:52:04.238Z"
   },
   {
    "duration": 0,
    "start_time": "2022-11-05T12:52:04.239Z"
   },
   {
    "duration": 4,
    "start_time": "2022-11-05T12:52:31.394Z"
   },
   {
    "duration": 79,
    "start_time": "2022-11-05T12:52:31.400Z"
   },
   {
    "duration": 11,
    "start_time": "2022-11-05T12:52:31.482Z"
   },
   {
    "duration": 8,
    "start_time": "2022-11-05T12:52:31.495Z"
   },
   {
    "duration": 16,
    "start_time": "2022-11-05T12:52:31.505Z"
   },
   {
    "duration": 3182,
    "start_time": "2022-11-05T12:52:31.523Z"
   },
   {
    "duration": 4,
    "start_time": "2022-11-05T12:52:40.645Z"
   },
   {
    "duration": 86,
    "start_time": "2022-11-05T12:52:40.651Z"
   },
   {
    "duration": 12,
    "start_time": "2022-11-05T12:52:40.739Z"
   },
   {
    "duration": 5,
    "start_time": "2022-11-05T12:52:40.753Z"
   },
   {
    "duration": 31,
    "start_time": "2022-11-05T12:52:40.760Z"
   },
   {
    "duration": 3140,
    "start_time": "2022-11-05T12:52:40.793Z"
   },
   {
    "duration": 4822,
    "start_time": "2022-11-05T12:52:47.746Z"
   },
   {
    "duration": 148,
    "start_time": "2022-11-05T12:52:52.572Z"
   },
   {
    "duration": 5,
    "start_time": "2022-11-05T12:52:52.723Z"
   },
   {
    "duration": 28,
    "start_time": "2022-11-05T12:52:52.732Z"
   },
   {
    "duration": 7,
    "start_time": "2022-11-05T12:52:52.762Z"
   },
   {
    "duration": 14,
    "start_time": "2022-11-05T12:52:52.771Z"
   },
   {
    "duration": 15,
    "start_time": "2022-11-05T12:52:52.787Z"
   },
   {
    "duration": 20,
    "start_time": "2022-11-05T12:52:52.804Z"
   },
   {
    "duration": 30,
    "start_time": "2022-11-05T12:52:52.826Z"
   },
   {
    "duration": 71,
    "start_time": "2022-11-05T12:52:52.858Z"
   },
   {
    "duration": 4,
    "start_time": "2022-11-05T12:52:52.931Z"
   },
   {
    "duration": 1743,
    "start_time": "2022-11-05T12:52:52.937Z"
   },
   {
    "duration": 4,
    "start_time": "2022-11-05T12:52:54.682Z"
   },
   {
    "duration": 11,
    "start_time": "2022-11-05T12:52:54.688Z"
   },
   {
    "duration": 33,
    "start_time": "2022-11-05T12:52:54.701Z"
   },
   {
    "duration": 4,
    "start_time": "2022-11-05T12:52:54.736Z"
   },
   {
    "duration": 19,
    "start_time": "2022-11-05T12:52:54.742Z"
   },
   {
    "duration": 2211,
    "start_time": "2022-11-05T13:53:27.705Z"
   },
   {
    "duration": 130,
    "start_time": "2022-11-05T13:53:29.918Z"
   },
   {
    "duration": 15,
    "start_time": "2022-11-05T13:53:30.050Z"
   },
   {
    "duration": 7,
    "start_time": "2022-11-05T13:53:30.067Z"
   },
   {
    "duration": 5,
    "start_time": "2022-11-05T13:53:30.076Z"
   },
   {
    "duration": 3115,
    "start_time": "2022-11-05T13:53:30.083Z"
   },
   {
    "duration": 114,
    "start_time": "2022-11-05T13:53:33.199Z"
   },
   {
    "duration": 4,
    "start_time": "2022-11-05T13:53:33.314Z"
   },
   {
    "duration": 14,
    "start_time": "2022-11-05T13:53:33.319Z"
   },
   {
    "duration": 4,
    "start_time": "2022-11-05T13:53:33.335Z"
   },
   {
    "duration": 7,
    "start_time": "2022-11-05T13:53:33.340Z"
   },
   {
    "duration": 9,
    "start_time": "2022-11-05T13:53:33.348Z"
   },
   {
    "duration": 5,
    "start_time": "2022-11-05T13:53:33.358Z"
   },
   {
    "duration": 13,
    "start_time": "2022-11-05T13:53:33.365Z"
   },
   {
    "duration": 84,
    "start_time": "2022-11-05T13:53:33.380Z"
   },
   {
    "duration": 3,
    "start_time": "2022-11-05T13:53:33.466Z"
   },
   {
    "duration": 1555,
    "start_time": "2022-11-05T13:53:33.470Z"
   },
   {
    "duration": 7,
    "start_time": "2022-11-05T13:53:35.027Z"
   },
   {
    "duration": 12,
    "start_time": "2022-11-05T13:53:35.036Z"
   },
   {
    "duration": 18,
    "start_time": "2022-11-05T13:53:35.050Z"
   },
   {
    "duration": 3,
    "start_time": "2022-11-05T13:53:35.070Z"
   },
   {
    "duration": 20,
    "start_time": "2022-11-05T13:53:35.075Z"
   },
   {
    "duration": 1631,
    "start_time": "2022-11-05T17:58:56.887Z"
   },
   {
    "duration": 90,
    "start_time": "2022-11-05T17:58:58.520Z"
   },
   {
    "duration": 15,
    "start_time": "2022-11-05T17:58:58.614Z"
   },
   {
    "duration": 19,
    "start_time": "2022-11-05T17:58:58.632Z"
   },
   {
    "duration": 7,
    "start_time": "2022-11-05T17:58:58.654Z"
   },
   {
    "duration": 2925,
    "start_time": "2022-11-05T17:58:58.663Z"
   },
   {
    "duration": 115,
    "start_time": "2022-11-05T17:59:01.590Z"
   },
   {
    "duration": 0,
    "start_time": "2022-11-05T17:59:01.707Z"
   },
   {
    "duration": 0,
    "start_time": "2022-11-05T17:59:01.708Z"
   },
   {
    "duration": 0,
    "start_time": "2022-11-05T17:59:01.709Z"
   },
   {
    "duration": 0,
    "start_time": "2022-11-05T17:59:01.710Z"
   },
   {
    "duration": 0,
    "start_time": "2022-11-05T17:59:01.711Z"
   },
   {
    "duration": 0,
    "start_time": "2022-11-05T17:59:01.712Z"
   },
   {
    "duration": 0,
    "start_time": "2022-11-05T17:59:01.713Z"
   },
   {
    "duration": 0,
    "start_time": "2022-11-05T17:59:01.714Z"
   },
   {
    "duration": 0,
    "start_time": "2022-11-05T17:59:01.715Z"
   },
   {
    "duration": 0,
    "start_time": "2022-11-05T17:59:01.716Z"
   },
   {
    "duration": 0,
    "start_time": "2022-11-05T17:59:01.717Z"
   },
   {
    "duration": 0,
    "start_time": "2022-11-05T17:59:01.739Z"
   },
   {
    "duration": 0,
    "start_time": "2022-11-05T17:59:01.739Z"
   },
   {
    "duration": 0,
    "start_time": "2022-11-05T17:59:01.817Z"
   },
   {
    "duration": 0,
    "start_time": "2022-11-05T17:59:01.842Z"
   },
   {
    "duration": 3090,
    "start_time": "2022-11-05T17:59:45.460Z"
   },
   {
    "duration": 1526,
    "start_time": "2022-11-05T17:59:56.860Z"
   },
   {
    "duration": 47,
    "start_time": "2022-11-05T17:59:58.388Z"
   },
   {
    "duration": 21,
    "start_time": "2022-11-05T17:59:58.437Z"
   },
   {
    "duration": 6,
    "start_time": "2022-11-05T17:59:58.460Z"
   },
   {
    "duration": 3,
    "start_time": "2022-11-05T17:59:58.469Z"
   },
   {
    "duration": 2894,
    "start_time": "2022-11-05T17:59:58.474Z"
   },
   {
    "duration": 2313,
    "start_time": "2022-11-05T18:00:01.370Z"
   },
   {
    "duration": 4,
    "start_time": "2022-11-05T18:00:03.685Z"
   },
   {
    "duration": 11,
    "start_time": "2022-11-05T18:00:03.690Z"
   },
   {
    "duration": 11,
    "start_time": "2022-11-05T18:00:03.703Z"
   },
   {
    "duration": 13,
    "start_time": "2022-11-05T18:00:03.716Z"
   },
   {
    "duration": 26,
    "start_time": "2022-11-05T18:00:03.731Z"
   },
   {
    "duration": 7,
    "start_time": "2022-11-05T18:00:03.758Z"
   },
   {
    "duration": 13,
    "start_time": "2022-11-05T18:00:03.768Z"
   },
   {
    "duration": 55,
    "start_time": "2022-11-05T18:00:03.782Z"
   },
   {
    "duration": 4,
    "start_time": "2022-11-05T18:00:03.839Z"
   },
   {
    "duration": 1517,
    "start_time": "2022-11-05T18:00:03.851Z"
   },
   {
    "duration": 4,
    "start_time": "2022-11-05T18:00:05.370Z"
   },
   {
    "duration": 11,
    "start_time": "2022-11-05T18:00:05.375Z"
   },
   {
    "duration": 11,
    "start_time": "2022-11-05T18:00:05.388Z"
   },
   {
    "duration": 3,
    "start_time": "2022-11-05T18:00:05.401Z"
   },
   {
    "duration": 49,
    "start_time": "2022-11-05T18:00:05.405Z"
   },
   {
    "duration": 58,
    "start_time": "2022-11-05T18:02:33.831Z"
   },
   {
    "duration": 1405,
    "start_time": "2022-11-05T18:03:30.182Z"
   },
   {
    "duration": 126,
    "start_time": "2022-11-05T18:03:31.589Z"
   },
   {
    "duration": 13,
    "start_time": "2022-11-05T18:03:31.716Z"
   },
   {
    "duration": 15,
    "start_time": "2022-11-05T18:03:31.731Z"
   },
   {
    "duration": 15,
    "start_time": "2022-11-05T18:03:31.754Z"
   },
   {
    "duration": 2821,
    "start_time": "2022-11-05T18:03:31.771Z"
   },
   {
    "duration": 2280,
    "start_time": "2022-11-05T18:03:34.593Z"
   },
   {
    "duration": 4,
    "start_time": "2022-11-05T18:03:36.875Z"
   },
   {
    "duration": 24,
    "start_time": "2022-11-05T18:03:36.881Z"
   },
   {
    "duration": 8,
    "start_time": "2022-11-05T18:03:36.907Z"
   },
   {
    "duration": 11,
    "start_time": "2022-11-05T18:03:36.916Z"
   },
   {
    "duration": 23,
    "start_time": "2022-11-05T18:03:36.928Z"
   },
   {
    "duration": 28,
    "start_time": "2022-11-05T18:03:36.953Z"
   },
   {
    "duration": 43,
    "start_time": "2022-11-05T18:03:36.984Z"
   },
   {
    "duration": 79,
    "start_time": "2022-11-05T18:03:37.029Z"
   },
   {
    "duration": 4,
    "start_time": "2022-11-05T18:03:37.110Z"
   },
   {
    "duration": 1505,
    "start_time": "2022-11-05T18:03:37.116Z"
   },
   {
    "duration": 15,
    "start_time": "2022-11-05T18:03:38.623Z"
   },
   {
    "duration": 13,
    "start_time": "2022-11-05T18:03:38.640Z"
   },
   {
    "duration": 20,
    "start_time": "2022-11-05T18:03:38.654Z"
   },
   {
    "duration": 3,
    "start_time": "2022-11-05T18:03:38.676Z"
   },
   {
    "duration": 44,
    "start_time": "2022-11-05T18:03:38.680Z"
   },
   {
    "duration": 4047,
    "start_time": "2022-11-05T20:11:45.047Z"
   },
   {
    "duration": 405,
    "start_time": "2022-11-05T20:11:49.097Z"
   },
   {
    "duration": 87,
    "start_time": "2022-11-05T20:11:49.504Z"
   },
   {
    "duration": 7,
    "start_time": "2022-11-05T20:11:49.596Z"
   },
   {
    "duration": 6,
    "start_time": "2022-11-05T20:11:49.678Z"
   },
   {
    "duration": 11692,
    "start_time": "2022-11-05T20:11:49.686Z"
   },
   {
    "duration": 11715,
    "start_time": "2022-11-05T20:12:01.381Z"
   },
   {
    "duration": 6,
    "start_time": "2022-11-05T20:12:13.177Z"
   },
   {
    "duration": 123,
    "start_time": "2022-11-05T20:12:13.185Z"
   },
   {
    "duration": 72,
    "start_time": "2022-11-05T20:12:13.311Z"
   },
   {
    "duration": 11,
    "start_time": "2022-11-05T20:12:13.389Z"
   },
   {
    "duration": 77,
    "start_time": "2022-11-05T20:12:13.402Z"
   },
   {
    "duration": 22,
    "start_time": "2022-11-05T20:12:13.482Z"
   },
   {
    "duration": 21,
    "start_time": "2022-11-05T20:12:13.580Z"
   },
   {
    "duration": 283,
    "start_time": "2022-11-05T20:12:13.603Z"
   },
   {
    "duration": 5,
    "start_time": "2022-11-05T20:12:13.888Z"
   },
   {
    "duration": 7882,
    "start_time": "2022-11-05T20:12:13.895Z"
   },
   {
    "duration": 5,
    "start_time": "2022-11-05T20:12:21.779Z"
   },
   {
    "duration": 95,
    "start_time": "2022-11-05T20:12:21.786Z"
   },
   {
    "duration": 105,
    "start_time": "2022-11-05T20:12:21.883Z"
   },
   {
    "duration": 4,
    "start_time": "2022-11-05T20:12:21.991Z"
   },
   {
    "duration": 100,
    "start_time": "2022-11-05T20:12:22.078Z"
   }
  ],
  "kernelspec": {
   "display_name": "Python 3 (ipykernel)",
   "language": "python",
   "name": "python3"
  },
  "language_info": {
   "codemirror_mode": {
    "name": "ipython",
    "version": 3
   },
   "file_extension": ".py",
   "mimetype": "text/x-python",
   "name": "python",
   "nbconvert_exporter": "python",
   "pygments_lexer": "ipython3",
   "version": "3.9.12"
  },
  "toc": {
   "base_numbering": 1,
   "nav_menu": {},
   "number_sections": true,
   "sideBar": true,
   "skip_h1_title": true,
   "title_cell": "Table of Contents",
   "title_sidebar": "Contents",
   "toc_cell": false,
   "toc_position": {
    "height": "calc(100% - 180px)",
    "left": "10px",
    "top": "150px",
    "width": "165px"
   },
   "toc_section_display": true,
   "toc_window_display": true
  }
 },
 "nbformat": 4,
 "nbformat_minor": 2
}
