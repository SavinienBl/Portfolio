{
 "cells": [
  {
   "cell_type": "markdown",
   "metadata": {},
   "source": [
    "Допустим, вы работаете в добывающей компании «ГлавРосГосНефть». Нужно решить, где бурить новую скважину.\n",
    "\n",
    "Вам предоставлены пробы нефти в трёх регионах: в каждом 10 000 месторождений, где измерили качество нефти и объём её запасов. Постройте модель машинного обучения, которая поможет определить регион, где добыча принесёт наибольшую прибыль. Проанализируйте возможную прибыль и риски техникой *Bootstrap.*\n",
    "\n",
    "Шаги для выбора локации:\n",
    "\n",
    "- В избранном регионе ищут месторождения, для каждого определяют значения признаков;\n",
    "- Строят модель и оценивают объём запасов;\n",
    "- Выбирают месторождения с самым высокими оценками значений. Количество месторождений зависит от бюджета компании и стоимости разработки одной скважины;\n",
    "- Прибыль равна суммарной прибыли отобранных месторождений."
   ]
  },
  {
   "cell_type": "markdown",
   "metadata": {},
   "source": [
    "## План работы"
   ]
  },
  {
   "cell_type": "markdown",
   "metadata": {},
   "source": [
    "* Загрузите и подготовьте данные. Поясните порядок действий.\n",
    "* Обучите и проверьте модель для каждого региона:\n",
    "* 2.1. Разбейте данные на обучающую и валидационную выборки в соотношении 75:25.\n",
    "* 2.2. Обучите модель и сделайте предсказания на валидационной выборке.\n",
    "* 2.3. Сохраните предсказания и правильные ответы на валидационной выборке.\n",
    "* 2.4. Напечатайте на экране средний запас предсказанного сырья и RMSE модели.\n",
    "*2.5. Проанализируйте результаты.\n",
    "Подготовьтесь к расчёту прибыли:\n",
    "* 3.1. Все ключевые значения для расчётов сохраните в отдельных переменных.\n",
    "*  3.2. Рассчитайте достаточный объём сырья для безубыточной разработки новой скважины. Сравните полученный объём сырья со средним запасом в каждом регионе.\n",
    "* 3.3. Напишите выводы по этапу подготовки расчёта прибыли.\n",
    "Напишите функцию для расчёта прибыли по выбранным скважинам и предсказаниям модели:\n",
    "* 4.1. Выберите скважины с максимальными значениями предсказаний.\n",
    "* 4.2. Просуммируйте целевое значение объёма сырья, соответствующее этим предсказаниям.\n",
    "* 4.3. Рассчитайте прибыль для полученного объёма сырья.\n",
    "Посчитайте риски и прибыль для каждого региона:\n",
    "* 5.1. Примените технику Bootstrap с 1000 выборок, чтобы найти распределение прибыли.\n",
    "* 5.2. Найдите среднюю прибыль, 95%-й доверительный интервал и риск убытков. Убыток — это отрицательная прибыль.\n",
    "* 5.3. Напишите выводы: предложите регион для разработки скважин и обоснуйте выбор."
   ]
  },
  {
   "cell_type": "markdown",
   "metadata": {},
   "source": [
    "### Описание данных\n",
    "* f0, f1, f2 — три признака точек (неважно, что они означают, но сами признаки значимы);\n",
    "* product — объём запасов в скважине (тыс. баррелей).\n"
   ]
  },
  {
   "cell_type": "markdown",
   "metadata": {},
   "source": [
    "### Условия задачи:\n",
    "* Для обучения модели подходит только линейная регрессия (остальные — недостаточно предсказуемые).\n",
    "* При разведке региона исследуют 500 точек, из которых с помощью машинного обучения выбирают 200 лучших для разработки.\n",
    "* Бюджет на разработку скважин в регионе — 10 млрд рублей.\n",
    "* При нынешних ценах один баррель сырья приносит 450 рублей дохода. Доход с каждой единицы продукта составляет 450 тыс. рублей, поскольку объём указан в тысячах баррелей.\n",
    "* После оценки рисков нужно оставить лишь те регионы, в которых вероятность убытков меньше 2.5%. Среди них выбирают регион с наибольшей средней прибылью."
   ]
  },
  {
   "cell_type": "markdown",
   "metadata": {},
   "source": [
    "## Загрузка и подготовка данных"
   ]
  },
  {
   "cell_type": "code",
   "execution_count": 1,
   "metadata": {},
   "outputs": [],
   "source": [
    "import pandas as pd\n",
    "import seaborn as sns\n",
    "import numpy as np"
   ]
  },
  {
   "cell_type": "code",
   "execution_count": 2,
   "metadata": {},
   "outputs": [],
   "source": [
    "from sklearn.model_selection import train_test_split\n",
    "from sklearn.linear_model import LinearRegression\n",
    "from sklearn.preprocessing import StandardScaler\n",
    "from sklearn.metrics import mean_squared_error\n",
    "from scipy import stats as st"
   ]
  },
  {
   "cell_type": "code",
   "execution_count": 3,
   "metadata": {},
   "outputs": [],
   "source": [
    "df_0 = pd.read_csv('https://code.s3.yandex.net/datasets/geo_data_0.csv')\n",
    "df_1 = pd.read_csv('https://code.s3.yandex.net/datasets/geo_data_1.csv')\n",
    "df_2 = pd.read_csv('https://code.s3.yandex.net/datasets/geo_data_2.csv')"
   ]
  },
  {
   "cell_type": "markdown",
   "metadata": {},
   "source": [
    "Поэтапно рассмотрим каждый регион и решим задачи связанные с подготовкой данных отдельно взятого региона.Возможно у каждого региона разные \"проблемы\" в данных."
   ]
  },
  {
   "cell_type": "markdown",
   "metadata": {},
   "source": [
    "###  Регион - df_0"
   ]
  },
  {
   "cell_type": "code",
   "execution_count": 4,
   "metadata": {
    "scrolled": true
   },
   "outputs": [
    {
     "data": {
      "text/plain": [
       "(100000, 5)"
      ]
     },
     "execution_count": 4,
     "metadata": {},
     "output_type": "execute_result"
    }
   ],
   "source": [
    "df_0.shape"
   ]
  },
  {
   "cell_type": "code",
   "execution_count": 5,
   "metadata": {},
   "outputs": [
    {
     "data": {
      "text/html": [
       "<div>\n",
       "<style scoped>\n",
       "    .dataframe tbody tr th:only-of-type {\n",
       "        vertical-align: middle;\n",
       "    }\n",
       "\n",
       "    .dataframe tbody tr th {\n",
       "        vertical-align: top;\n",
       "    }\n",
       "\n",
       "    .dataframe thead th {\n",
       "        text-align: right;\n",
       "    }\n",
       "</style>\n",
       "<table border=\"1\" class=\"dataframe\">\n",
       "  <thead>\n",
       "    <tr style=\"text-align: right;\">\n",
       "      <th></th>\n",
       "      <th>f0</th>\n",
       "      <th>f1</th>\n",
       "      <th>f2</th>\n",
       "      <th>product</th>\n",
       "    </tr>\n",
       "  </thead>\n",
       "  <tbody>\n",
       "    <tr>\n",
       "      <th>count</th>\n",
       "      <td>100000.000000</td>\n",
       "      <td>100000.000000</td>\n",
       "      <td>100000.000000</td>\n",
       "      <td>100000.000000</td>\n",
       "    </tr>\n",
       "    <tr>\n",
       "      <th>mean</th>\n",
       "      <td>0.500419</td>\n",
       "      <td>0.250143</td>\n",
       "      <td>2.502647</td>\n",
       "      <td>92.500000</td>\n",
       "    </tr>\n",
       "    <tr>\n",
       "      <th>std</th>\n",
       "      <td>0.871832</td>\n",
       "      <td>0.504433</td>\n",
       "      <td>3.248248</td>\n",
       "      <td>44.288691</td>\n",
       "    </tr>\n",
       "    <tr>\n",
       "      <th>min</th>\n",
       "      <td>-1.408605</td>\n",
       "      <td>-0.848218</td>\n",
       "      <td>-12.088328</td>\n",
       "      <td>0.000000</td>\n",
       "    </tr>\n",
       "    <tr>\n",
       "      <th>25%</th>\n",
       "      <td>-0.072580</td>\n",
       "      <td>-0.200881</td>\n",
       "      <td>0.287748</td>\n",
       "      <td>56.497507</td>\n",
       "    </tr>\n",
       "    <tr>\n",
       "      <th>50%</th>\n",
       "      <td>0.502360</td>\n",
       "      <td>0.250252</td>\n",
       "      <td>2.515969</td>\n",
       "      <td>91.849972</td>\n",
       "    </tr>\n",
       "    <tr>\n",
       "      <th>75%</th>\n",
       "      <td>1.073581</td>\n",
       "      <td>0.700646</td>\n",
       "      <td>4.715088</td>\n",
       "      <td>128.564089</td>\n",
       "    </tr>\n",
       "    <tr>\n",
       "      <th>max</th>\n",
       "      <td>2.362331</td>\n",
       "      <td>1.343769</td>\n",
       "      <td>16.003790</td>\n",
       "      <td>185.364347</td>\n",
       "    </tr>\n",
       "  </tbody>\n",
       "</table>\n",
       "</div>"
      ],
      "text/plain": [
       "                  f0             f1             f2        product\n",
       "count  100000.000000  100000.000000  100000.000000  100000.000000\n",
       "mean        0.500419       0.250143       2.502647      92.500000\n",
       "std         0.871832       0.504433       3.248248      44.288691\n",
       "min        -1.408605      -0.848218     -12.088328       0.000000\n",
       "25%        -0.072580      -0.200881       0.287748      56.497507\n",
       "50%         0.502360       0.250252       2.515969      91.849972\n",
       "75%         1.073581       0.700646       4.715088     128.564089\n",
       "max         2.362331       1.343769      16.003790     185.364347"
      ]
     },
     "execution_count": 5,
     "metadata": {},
     "output_type": "execute_result"
    }
   ],
   "source": [
    "df_0.describe()"
   ]
  },
  {
   "cell_type": "code",
   "execution_count": 6,
   "metadata": {},
   "outputs": [
    {
     "name": "stdout",
     "output_type": "stream",
     "text": [
      "<class 'pandas.core.frame.DataFrame'>\n",
      "RangeIndex: 100000 entries, 0 to 99999\n",
      "Data columns (total 5 columns):\n",
      " #   Column   Non-Null Count   Dtype  \n",
      "---  ------   --------------   -----  \n",
      " 0   id       100000 non-null  object \n",
      " 1   f0       100000 non-null  float64\n",
      " 2   f1       100000 non-null  float64\n",
      " 3   f2       100000 non-null  float64\n",
      " 4   product  100000 non-null  float64\n",
      "dtypes: float64(4), object(1)\n",
      "memory usage: 3.8+ MB\n"
     ]
    }
   ],
   "source": [
    "df_0.info()"
   ]
  },
  {
   "cell_type": "code",
   "execution_count": 7,
   "metadata": {
    "scrolled": false
   },
   "outputs": [
    {
     "data": {
      "text/plain": [
       "id         0\n",
       "f0         0\n",
       "f1         0\n",
       "f2         0\n",
       "product    0\n",
       "dtype: int64"
      ]
     },
     "execution_count": 7,
     "metadata": {},
     "output_type": "execute_result"
    }
   ],
   "source": [
    "df_0.isna().sum()"
   ]
  },
  {
   "cell_type": "code",
   "execution_count": 9,
   "metadata": {
    "scrolled": true
   },
   "outputs": [
    {
     "data": {
      "image/png": "[encoded data removed]",
      "text/plain": [
       "<Figure size 432x288 with 2 Axes>"
      ]
     },
     "metadata": {
      "needs_background": "light"
     },
     "output_type": "display_data"
    }
   ],
   "source": [
    "\n",
    "sns.heatmap(df_0.corr(), annot = True);"
   ]
  },
  {
   "cell_type": "code",
   "execution_count": 10,
   "metadata": {
    "scrolled": false
   },
   "outputs": [
    {
     "data": {
      "image/png": "[encoded data removed]",
      "text/plain": [
       "<Figure size 1800x720 with 4 Axes>"
      ]
     },
     "metadata": {
      "needs_background": "light"
     },
     "output_type": "display_data"
    }
   ],
   "source": [
    "df_0.hist(figsize=(25,10));"
   ]
  },
  {
   "cell_type": "markdown",
   "metadata": {},
   "source": [
    "##### Вывод по региону df_0"
   ]
  },
  {
   "cell_type": "markdown",
   "metadata": {},
   "source": [
    "* данные по региону df_0 чистые,аномальных значений не видно "
   ]
  },
  {
   "cell_type": "code",
   "execution_count": 11,
   "metadata": {},
   "outputs": [],
   "source": [
    "df_0= df_0.drop('id', axis=1)\n",
    "df_1= df_1.drop('id', axis=1)\n",
    "df_2= df_2.drop('id', axis=1)"
   ]
  },
  {
   "cell_type": "markdown",
   "metadata": {},
   "source": [
    "###  Регион - df_1"
   ]
  },
  {
   "cell_type": "code",
   "execution_count": 12,
   "metadata": {
    "scrolled": true
   },
   "outputs": [
    {
     "data": {
      "text/html": [
       "<div>\n",
       "<style scoped>\n",
       "    .dataframe tbody tr th:only-of-type {\n",
       "        vertical-align: middle;\n",
       "    }\n",
       "\n",
       "    .dataframe tbody tr th {\n",
       "        vertical-align: top;\n",
       "    }\n",
       "\n",
       "    .dataframe thead th {\n",
       "        text-align: right;\n",
       "    }\n",
       "</style>\n",
       "<table border=\"1\" class=\"dataframe\">\n",
       "  <thead>\n",
       "    <tr style=\"text-align: right;\">\n",
       "      <th></th>\n",
       "      <th>f0</th>\n",
       "      <th>f1</th>\n",
       "      <th>f2</th>\n",
       "      <th>product</th>\n",
       "    </tr>\n",
       "  </thead>\n",
       "  <tbody>\n",
       "    <tr>\n",
       "      <th>count</th>\n",
       "      <td>100000.000000</td>\n",
       "      <td>100000.000000</td>\n",
       "      <td>100000.000000</td>\n",
       "      <td>100000.000000</td>\n",
       "    </tr>\n",
       "    <tr>\n",
       "      <th>mean</th>\n",
       "      <td>1.141296</td>\n",
       "      <td>-4.796579</td>\n",
       "      <td>2.494541</td>\n",
       "      <td>68.825000</td>\n",
       "    </tr>\n",
       "    <tr>\n",
       "      <th>std</th>\n",
       "      <td>8.965932</td>\n",
       "      <td>5.119872</td>\n",
       "      <td>1.703572</td>\n",
       "      <td>45.944423</td>\n",
       "    </tr>\n",
       "    <tr>\n",
       "      <th>min</th>\n",
       "      <td>-31.609576</td>\n",
       "      <td>-26.358598</td>\n",
       "      <td>-0.018144</td>\n",
       "      <td>0.000000</td>\n",
       "    </tr>\n",
       "    <tr>\n",
       "      <th>25%</th>\n",
       "      <td>-6.298551</td>\n",
       "      <td>-8.267985</td>\n",
       "      <td>1.000021</td>\n",
       "      <td>26.953261</td>\n",
       "    </tr>\n",
       "    <tr>\n",
       "      <th>50%</th>\n",
       "      <td>1.153055</td>\n",
       "      <td>-4.813172</td>\n",
       "      <td>2.011479</td>\n",
       "      <td>57.085625</td>\n",
       "    </tr>\n",
       "    <tr>\n",
       "      <th>75%</th>\n",
       "      <td>8.621015</td>\n",
       "      <td>-1.332816</td>\n",
       "      <td>3.999904</td>\n",
       "      <td>107.813044</td>\n",
       "    </tr>\n",
       "    <tr>\n",
       "      <th>max</th>\n",
       "      <td>29.421755</td>\n",
       "      <td>18.734063</td>\n",
       "      <td>5.019721</td>\n",
       "      <td>137.945408</td>\n",
       "    </tr>\n",
       "  </tbody>\n",
       "</table>\n",
       "</div>"
      ],
      "text/plain": [
       "                  f0             f1             f2        product\n",
       "count  100000.000000  100000.000000  100000.000000  100000.000000\n",
       "mean        1.141296      -4.796579       2.494541      68.825000\n",
       "std         8.965932       5.119872       1.703572      45.944423\n",
       "min       -31.609576     -26.358598      -0.018144       0.000000\n",
       "25%        -6.298551      -8.267985       1.000021      26.953261\n",
       "50%         1.153055      -4.813172       2.011479      57.085625\n",
       "75%         8.621015      -1.332816       3.999904     107.813044\n",
       "max        29.421755      18.734063       5.019721     137.945408"
      ]
     },
     "execution_count": 12,
     "metadata": {},
     "output_type": "execute_result"
    }
   ],
   "source": [
    "df_1.describe()"
   ]
  },
  {
   "cell_type": "code",
   "execution_count": 13,
   "metadata": {
    "scrolled": true
   },
   "outputs": [
    {
     "name": "stdout",
     "output_type": "stream",
     "text": [
      "<class 'pandas.core.frame.DataFrame'>\n",
      "RangeIndex: 100000 entries, 0 to 99999\n",
      "Data columns (total 4 columns):\n",
      " #   Column   Non-Null Count   Dtype  \n",
      "---  ------   --------------   -----  \n",
      " 0   f0       100000 non-null  float64\n",
      " 1   f1       100000 non-null  float64\n",
      " 2   f2       100000 non-null  float64\n",
      " 3   product  100000 non-null  float64\n",
      "dtypes: float64(4)\n",
      "memory usage: 3.1 MB\n"
     ]
    }
   ],
   "source": [
    "df_1.info()"
   ]
  },
  {
   "cell_type": "code",
   "execution_count": 14,
   "metadata": {
    "scrolled": false
   },
   "outputs": [
    {
     "data": {
      "text/plain": [
       "f0         0\n",
       "f1         0\n",
       "f2         0\n",
       "product    0\n",
       "dtype: int64"
      ]
     },
     "execution_count": 14,
     "metadata": {},
     "output_type": "execute_result"
    }
   ],
   "source": [
    "df_1.isna().sum()"
   ]
  },
  {
   "cell_type": "code",
   "execution_count": 15,
   "metadata": {
    "scrolled": false
   },
   "outputs": [
    {
     "data": {
      "image/png": "[encoded data removed]",
      "text/plain": [
       "<Figure size 432x288 with 2 Axes>"
      ]
     },
     "metadata": {
      "needs_background": "light"
     },
     "output_type": "display_data"
    }
   ],
   "source": [
    "sns.heatmap(df_1.corr());"
   ]
  },
  {
   "cell_type": "code",
   "execution_count": 16,
   "metadata": {
    "scrolled": false
   },
   "outputs": [
    {
     "data": {
      "image/png": "[encoded data removed]",
      "text/plain": [
       "<Figure size 1800x720 with 4 Axes>"
      ]
     },
     "metadata": {
      "needs_background": "light"
     },
     "output_type": "display_data"
    }
   ],
   "source": [
    "df_1.hist(figsize=(25,10));"
   ]
  },
  {
   "cell_type": "code",
   "execution_count": 17,
   "metadata": {},
   "outputs": [
    {
     "data": {
      "text/plain": [
       "<AxesSubplot:>"
      ]
     },
     "execution_count": 17,
     "metadata": {},
     "output_type": "execute_result"
    },
    {
     "data": {
      "image/png": "[encoded data removed]",
      "text/plain": [
       "<Figure size 432x288 with 1 Axes>"
      ]
     },
     "metadata": {
      "needs_background": "light"
     },
     "output_type": "display_data"
    }
   ],
   "source": [
    "df_1.boxplot('product')"
   ]
  },
  {
   "cell_type": "markdown",
   "metadata": {},
   "source": [
    "##### Вывод по региону df_1"
   ]
  },
  {
   "cell_type": "markdown",
   "metadata": {},
   "source": [
    "* В данных по региону df_1 была найдена сильная корреляция по столбцу f2.Я пришел к выводу что данный столбец нужно удалить.Возможно в заполнении данных была допущена ошибка.Так же меня смущает то, что в гистограмме по столбцу product аномально высокие занчения в начале и в коцнеграфика, что сведетельствует о не нормальности распределения."
   ]
  },
  {
   "cell_type": "markdown",
   "metadata": {},
   "source": [
    "###  Регион - df_2"
   ]
  },
  {
   "cell_type": "code",
   "execution_count": 18,
   "metadata": {},
   "outputs": [
    {
     "data": {
      "text/plain": [
       "(100000, 4)"
      ]
     },
     "execution_count": 18,
     "metadata": {},
     "output_type": "execute_result"
    }
   ],
   "source": [
    "df_2.shape"
   ]
  },
  {
   "cell_type": "code",
   "execution_count": 19,
   "metadata": {
    "scrolled": true
   },
   "outputs": [
    {
     "data": {
      "text/html": [
       "<div>\n",
       "<style scoped>\n",
       "    .dataframe tbody tr th:only-of-type {\n",
       "        vertical-align: middle;\n",
       "    }\n",
       "\n",
       "    .dataframe tbody tr th {\n",
       "        vertical-align: top;\n",
       "    }\n",
       "\n",
       "    .dataframe thead th {\n",
       "        text-align: right;\n",
       "    }\n",
       "</style>\n",
       "<table border=\"1\" class=\"dataframe\">\n",
       "  <thead>\n",
       "    <tr style=\"text-align: right;\">\n",
       "      <th></th>\n",
       "      <th>f0</th>\n",
       "      <th>f1</th>\n",
       "      <th>f2</th>\n",
       "      <th>product</th>\n",
       "    </tr>\n",
       "  </thead>\n",
       "  <tbody>\n",
       "    <tr>\n",
       "      <th>count</th>\n",
       "      <td>100000.000000</td>\n",
       "      <td>100000.000000</td>\n",
       "      <td>100000.000000</td>\n",
       "      <td>100000.000000</td>\n",
       "    </tr>\n",
       "    <tr>\n",
       "      <th>mean</th>\n",
       "      <td>0.002023</td>\n",
       "      <td>-0.002081</td>\n",
       "      <td>2.495128</td>\n",
       "      <td>95.000000</td>\n",
       "    </tr>\n",
       "    <tr>\n",
       "      <th>std</th>\n",
       "      <td>1.732045</td>\n",
       "      <td>1.730417</td>\n",
       "      <td>3.473445</td>\n",
       "      <td>44.749921</td>\n",
       "    </tr>\n",
       "    <tr>\n",
       "      <th>min</th>\n",
       "      <td>-8.760004</td>\n",
       "      <td>-7.084020</td>\n",
       "      <td>-11.970335</td>\n",
       "      <td>0.000000</td>\n",
       "    </tr>\n",
       "    <tr>\n",
       "      <th>25%</th>\n",
       "      <td>-1.162288</td>\n",
       "      <td>-1.174820</td>\n",
       "      <td>0.130359</td>\n",
       "      <td>59.450441</td>\n",
       "    </tr>\n",
       "    <tr>\n",
       "      <th>50%</th>\n",
       "      <td>0.009424</td>\n",
       "      <td>-0.009482</td>\n",
       "      <td>2.484236</td>\n",
       "      <td>94.925613</td>\n",
       "    </tr>\n",
       "    <tr>\n",
       "      <th>75%</th>\n",
       "      <td>1.158535</td>\n",
       "      <td>1.163678</td>\n",
       "      <td>4.858794</td>\n",
       "      <td>130.595027</td>\n",
       "    </tr>\n",
       "    <tr>\n",
       "      <th>max</th>\n",
       "      <td>7.238262</td>\n",
       "      <td>7.844801</td>\n",
       "      <td>16.739402</td>\n",
       "      <td>190.029838</td>\n",
       "    </tr>\n",
       "  </tbody>\n",
       "</table>\n",
       "</div>"
      ],
      "text/plain": [
       "                  f0             f1             f2        product\n",
       "count  100000.000000  100000.000000  100000.000000  100000.000000\n",
       "mean        0.002023      -0.002081       2.495128      95.000000\n",
       "std         1.732045       1.730417       3.473445      44.749921\n",
       "min        -8.760004      -7.084020     -11.970335       0.000000\n",
       "25%        -1.162288      -1.174820       0.130359      59.450441\n",
       "50%         0.009424      -0.009482       2.484236      94.925613\n",
       "75%         1.158535       1.163678       4.858794     130.595027\n",
       "max         7.238262       7.844801      16.739402     190.029838"
      ]
     },
     "execution_count": 19,
     "metadata": {},
     "output_type": "execute_result"
    }
   ],
   "source": [
    "df_2.describe()"
   ]
  },
  {
   "cell_type": "code",
   "execution_count": 20,
   "metadata": {
    "scrolled": true
   },
   "outputs": [
    {
     "name": "stdout",
     "output_type": "stream",
     "text": [
      "<class 'pandas.core.frame.DataFrame'>\n",
      "RangeIndex: 100000 entries, 0 to 99999\n",
      "Data columns (total 4 columns):\n",
      " #   Column   Non-Null Count   Dtype  \n",
      "---  ------   --------------   -----  \n",
      " 0   f0       100000 non-null  float64\n",
      " 1   f1       100000 non-null  float64\n",
      " 2   f2       100000 non-null  float64\n",
      " 3   product  100000 non-null  float64\n",
      "dtypes: float64(4)\n",
      "memory usage: 3.1 MB\n"
     ]
    }
   ],
   "source": [
    "df_2.info()"
   ]
  },
  {
   "cell_type": "code",
   "execution_count": 21,
   "metadata": {
    "scrolled": false
   },
   "outputs": [
    {
     "data": {
      "text/plain": [
       "f0         0\n",
       "f1         0\n",
       "f2         0\n",
       "product    0\n",
       "dtype: int64"
      ]
     },
     "execution_count": 21,
     "metadata": {},
     "output_type": "execute_result"
    }
   ],
   "source": [
    "df_2.isna().sum()"
   ]
  },
  {
   "cell_type": "code",
   "execution_count": 22,
   "metadata": {
    "scrolled": true
   },
   "outputs": [
    {
     "data": {
      "image/png": "[encoded data removed]",
      "text/plain": [
       "<Figure size 432x288 with 2 Axes>"
      ]
     },
     "metadata": {
      "needs_background": "light"
     },
     "output_type": "display_data"
    }
   ],
   "source": [
    "sns.heatmap(df_2.corr());"
   ]
  },
  {
   "cell_type": "code",
   "execution_count": 23,
   "metadata": {
    "scrolled": false
   },
   "outputs": [
    {
     "data": {
      "image/png": "[encoded data removed]",
      "text/plain": [
       "<Figure size 1800x720 with 4 Axes>"
      ]
     },
     "metadata": {
      "needs_background": "light"
     },
     "output_type": "display_data"
    }
   ],
   "source": [
    "df_2.hist(figsize=(25,10));"
   ]
  },
  {
   "cell_type": "markdown",
   "metadata": {},
   "source": [
    "##### Вывод по региону df_2"
   ]
  },
  {
   "cell_type": "markdown",
   "metadata": {},
   "source": [
    "* В данном регионе аномальных значений нет"
   ]
  },
  {
   "cell_type": "markdown",
   "metadata": {},
   "source": [
    "## Обучение и проверка модели"
   ]
  },
  {
   "cell_type": "markdown",
   "metadata": {},
   "source": [
    "Разобьем данные на две выборки,тренировочную и валидационную в соотношении 75:25 и стандартизируем данные"
   ]
  },
  {
   "cell_type": "code",
   "execution_count": 24,
   "metadata": {},
   "outputs": [],
   "source": [
    "target_0 = df_0['product']\n",
    "features_0 = df_0.drop(['product'],axis=1)"
   ]
  },
  {
   "cell_type": "code",
   "execution_count": 25,
   "metadata": {},
   "outputs": [],
   "source": [
    "target_1 = df_1['product']\n",
    "features_1 = df_1.drop(['product'],axis=1)"
   ]
  },
  {
   "cell_type": "code",
   "execution_count": 26,
   "metadata": {},
   "outputs": [],
   "source": [
    "target_2 = df_2['product']\n",
    "features_2 = df_2.drop(['product'],axis=1)"
   ]
  },
  {
   "cell_type": "code",
   "execution_count": 27,
   "metadata": {},
   "outputs": [],
   "source": [
    "features_train_0, features_valid_0,target_train_0,target_valid_0 = train_test_split(features_0,target_0,\n",
    "                                                                                          test_size=0.25,\n",
    "                                                                                          random_state=12345)\n",
    "features_train_1, features_valid_1,target_train_1,target_valid_1 = train_test_split(features_1,target_1,\n",
    "                                                                                          test_size=0.25,\n",
    "                                                                                          random_state=12345)\n",
    "features_train_2, features_valid_2,target_train_2,target_valid_2 = train_test_split(features_2,target_2,\n",
    "                                                                                          test_size=0.25,\n",
    "                                                                                          random_state=12345)\n"
   ]
  },
  {
   "cell_type": "code",
   "execution_count": 28,
   "metadata": {
    "scrolled": true
   },
   "outputs": [
    {
     "name": "stdout",
     "output_type": "stream",
     "text": [
      "(75000, 3)\n",
      "(25000, 3)\n"
     ]
    }
   ],
   "source": [
    "print(features_train_0.shape)\n",
    "print(features_valid_0.shape)"
   ]
  },
  {
   "cell_type": "code",
   "execution_count": 29,
   "metadata": {},
   "outputs": [
    {
     "name": "stdout",
     "output_type": "stream",
     "text": [
      "(75000,)\n",
      "(25000,)\n"
     ]
    }
   ],
   "source": [
    "print(target_train_0.shape)\n",
    "print(target_valid_0.shape)\n"
   ]
  },
  {
   "cell_type": "code",
   "execution_count": 30,
   "metadata": {},
   "outputs": [],
   "source": [
    "#стандартизируем данные кроме целевого признака\n",
    "pd.options.mode.chained_assignment = None\n",
    "\n",
    "scaler = StandardScaler()\n",
    "\n",
    "features_train_0 = scaler.fit_transform(features_train_0)\n",
    "features_valid_0 = scaler.transform(features_valid_0)\n",
    "\n",
    "scaler = StandardScaler()\n",
    "features_train_1 = scaler.fit_transform(features_train_1)\n",
    "features_valid_1 = scaler.transform(features_valid_1)\n",
    "\n",
    "scaler = StandardScaler()\n",
    "features_train_2 = scaler.fit_transform(features_train_2)\n",
    "features_valid_2 = scaler.transform(features_valid_2)"
   ]
  },
  {
   "cell_type": "markdown",
   "metadata": {},
   "source": [
    "Приступим к логистической регрессии и RMSE"
   ]
  },
  {
   "cell_type": "code",
   "execution_count": 31,
   "metadata": {},
   "outputs": [],
   "source": [
    "def mod(features_train,features_valid,target_train,target_valid):\n",
    "    model = LinearRegression()\n",
    "    model.fit(features_train,target_train)\n",
    "    prediction_valid = pd.Series(model.predict(features_valid))\n",
    "    \n",
    "    rmse = mean_squared_error(prediction_valid,target_valid) ** 0.5\n",
    "    mean = prediction_valid.mean()\n",
    "    return prediction_valid,rmse,mean"
   ]
  },
  {
   "cell_type": "code",
   "execution_count": 32,
   "metadata": {},
   "outputs": [],
   "source": [
    "pred0,rmse0,mean0= mod(features_train_0,features_valid_0,target_train_0,target_valid_0)\n",
    "\n",
    "pred1,rmse1,mean1= mod(features_train_1,features_valid_1,target_train_1,target_valid_1)\n",
    "\n",
    "pred2,rmse2,mean2= mod(features_train_2,features_valid_2,target_train_2,target_valid_2)"
   ]
  },
  {
   "cell_type": "code",
   "execution_count": 33,
   "metadata": {
    "scrolled": true
   },
   "outputs": [
    {
     "name": "stdout",
     "output_type": "stream",
     "text": [
      "Для региона 0 средний запас предсказанного сырья составил 92.59256778438035, а RMSE модели 37.5794217150813\n",
      "Для региона 1 средний запас предсказанного сырья составил 68.728546895446, а RMSE модели 0.893099286775617\n",
      "Для региона 2 средний запас предсказанного сырья составил 94.96504596800489, а RMSE модели 40.02970873393434\n"
     ]
    }
   ],
   "source": [
    "print(f'Для региона 0 средний запас предсказанного сырья составил {mean0}, а RMSE модели {rmse0}')\n",
    "\n",
    "print(f'Для региона 1 средний запас предсказанного сырья составил {mean1}, а RMSE модели {rmse1}')\n",
    "\n",
    "print(f'Для региона 2 средний запас предсказанного сырья составил {mean2}, а RMSE модели {rmse2}')"
   ]
  },
  {
   "cell_type": "code",
   "execution_count": 34,
   "metadata": {},
   "outputs": [
    {
     "name": "stdout",
     "output_type": "stream",
     "text": [
      "Для региона 0 средний запас сырья по целевому признаку составил 92.50000000000001\n",
      "Для региона 1 средний запас сырья по целевому признаку составил  68.82500000000002\n",
      "Для региона 2 средний запас сырья по целевому признаку составил  95.00000000000004\n"
     ]
    }
   ],
   "source": [
    "print(f'Для региона 0 средний запас сырья по целевому признаку составил',target_0.mean())\n",
    "\n",
    "print(f'Для региона 1 средний запас сырья по целевому признаку составил ',target_1.mean())\n",
    "\n",
    "print(f'Для региона 2 средний запас сырья по целевому признаку составил ',target_2.mean())"
   ]
  },
  {
   "cell_type": "markdown",
   "metadata": {},
   "source": [
    "#### Вывод"
   ]
  },
  {
   "cell_type": "markdown",
   "metadata": {},
   "source": [
    "Среднее значение и предсказания практически индентичны,это хорший знак.Значит предсказания макисмально верны."
   ]
  },
  {
   "cell_type": "markdown",
   "metadata": {},
   "source": [
    "## Подготовка к расчёту прибыли"
   ]
  },
  {
   "cell_type": "markdown",
   "metadata": {},
   "source": [
    "### Условия задачи:\n",
    "* Для обучения модели подходит только линейная регрессия (остальные — недостаточно предсказуемые).\n",
    "* При разведке региона исследуют 500 точек, из которых с помощью машинного обучения выбирают 200 лучших для разработки.\n",
    "* Бюджет на разработку скважин в регионе — 10 млрд рублей.\n",
    "* При нынешних ценах один баррель сырья приносит 450 рублей дохода. Доход с каждой единицы продукта составляет 450 тыс. рублей, поскольку объём указан в тысячах баррелей.\n",
    "* После оценки рисков нужно оставить лишь те регионы, в которых вероятность убытков меньше 2.5%. Среди них выбирают регион с наибольшей средней прибылью."
   ]
  },
  {
   "cell_type": "code",
   "execution_count": 35,
   "metadata": {},
   "outputs": [],
   "source": [
    "points = 500\n",
    "best_200 = 200\n",
    "budget = 10_000_000_000\n",
    "barrel = 450000\n",
    "loss = 2.5"
   ]
  },
  {
   "cell_type": "code",
   "execution_count": 36,
   "metadata": {},
   "outputs": [
    {
     "name": "stdout",
     "output_type": "stream",
     "text": [
      "Бюджет на разработку одной скважины 50000000\n"
     ]
    }
   ],
   "source": [
    "one_point_budget = int(budget / best_200)\n",
    "print(f'Бюджет на разработку одной скважины {one_point_budget}')"
   ]
  },
  {
   "cell_type": "code",
   "execution_count": 37,
   "metadata": {},
   "outputs": [],
   "source": [
    "min = round(one_point_budget / barrel,2)"
   ]
  },
  {
   "cell_type": "code",
   "execution_count": 38,
   "metadata": {
    "scrolled": true
   },
   "outputs": [
    {
     "name": "stdout",
     "output_type": "stream",
     "text": [
      "Количество сырья в месторождениях региона, достаточное для разработки 111.11\n"
     ]
    }
   ],
   "source": [
    "print('Количество сырья в месторождениях региона, достаточное для разработки',min)"
   ]
  },
  {
   "cell_type": "markdown",
   "metadata": {},
   "source": [
    "Среднее значение запаса сырья ниже,чем мы расчитали.Это показывает нам то, что окупаемости не может быть, но для более точного подсчета нужно подобрать более качесвенные параметры"
   ]
  },
  {
   "cell_type": "code",
   "execution_count": 39,
   "metadata": {},
   "outputs": [],
   "source": [
    "#функция для расчета прибыли по 200 лучшим скважинам\n",
    "def function(target_valid, predictions_valid):\n",
    "    max_200 = predictions_valid.sort_values(ascending=False).head(200)\n",
    "    target_200 = target_valid[max_200.index]\n",
    "    income = target_200.sum() * barrel - budget\n",
    "    return income\n",
    "    "
   ]
  },
  {
   "cell_type": "code",
   "execution_count": 40,
   "metadata": {},
   "outputs": [
    {
     "name": "stdout",
     "output_type": "stream",
     "text": [
      "-1922149005\n",
      "-4015754052\n",
      "-1259258892\n"
     ]
    }
   ],
   "source": [
    "print(int(function(target_0,pred0)))\n",
    "print(int(function(target_1,pred1)))\n",
    "print(int(function(target_2,pred2)))"
   ]
  },
  {
   "cell_type": "code",
   "execution_count": 41,
   "metadata": {},
   "outputs": [
    {
     "data": {
      "text/plain": [
       "3320826043.1398506"
      ]
     },
     "execution_count": 41,
     "metadata": {},
     "output_type": "execute_result"
    }
   ],
   "source": [
    "function(target_valid_0.reset_index(drop=True), pd.Series(pred0))"
   ]
  },
  {
   "cell_type": "markdown",
   "metadata": {},
   "source": [
    "### Вывод"
   ]
  },
  {
   "cell_type": "markdown",
   "metadata": {},
   "source": [
    "Мы получили очень хорошие результаты,но они показывают нам значения,если мы проведем поиск по всем месторождениям, но так мы не сможем, так как бюджет заточен только на 500."
   ]
  },
  {
   "cell_type": "markdown",
   "metadata": {},
   "source": [
    "## Расчёт прибыли и рисков "
   ]
  },
  {
   "cell_type": "code",
   "execution_count": 42,
   "metadata": {},
   "outputs": [],
   "source": [
    "def bootstrap(target,prediction):\n",
    "    state = np.random.RandomState(12345)\n",
    "    revenue_bootstrap = []\n",
    "    \n",
    "    for i in range(1000):\n",
    "        prediction_supsample = pd.Series(prediction).sample(n=points,replace=True,random_state=state)\n",
    "        target_supsampl =target.reset_index(drop=True)[prediction_supsample.index] \n",
    "        revenue_bootstrap.append(function(target_supsampl,prediction_supsample))\n",
    "    revenue_bootstrap = pd.Series(revenue_bootstrap)\n",
    "    mean = revenue_bootstrap.mean()\n",
    "    lower = revenue_bootstrap.quantile(.025)\n",
    "    upper = revenue_bootstrap.quantile(.975)\n",
    "    risk =(len(revenue_bootstrap[revenue_bootstrap<0])/len(revenue_bootstrap))*100  \n",
    "    return mean,lower,upper,risk\n",
    "    "
   ]
  },
  {
   "cell_type": "code",
   "execution_count": 43,
   "metadata": {},
   "outputs": [],
   "source": [
    "mean0,lower0,upper0,risk0= bootstrap(target_valid_0,pred0)\n",
    "\n",
    "mean1,lower1,upper1,risk1= bootstrap(target_valid_1,pred1)\n",
    "\n",
    "mean2,lower2,upper2,risk2= bootstrap(target_valid_2,pred2)"
   ]
  },
  {
   "cell_type": "code",
   "execution_count": 44,
   "metadata": {
    "scrolled": false
   },
   "outputs": [
    {
     "name": "stdout",
     "output_type": "stream",
     "text": [
      "Среднее значение прибыли для региона 0 равнв  600735244.2611653\n",
      "Доверительный интервал для региона 0 находится в промежутке между 12948331.135115242 и 1231163605.7914982\n",
      "Уровень риска равен 2.0\n"
     ]
    }
   ],
   "source": [
    "print('Среднее значение прибыли для региона 0 равнв ',mean0)\n",
    "print(f'Доверительный интервал для региона 0 находится в промежутке между {lower0} и {upper0}')\n",
    "print(f'Уровень риска равен {risk0}')"
   ]
  },
  {
   "cell_type": "code",
   "execution_count": 45,
   "metadata": {},
   "outputs": [
    {
     "name": "stdout",
     "output_type": "stream",
     "text": [
      "Среднее значение прибыли для региона 1 равнв  665241058.2210723\n",
      "Доверительный интервал для региона 0 находится в промежутке между 157988481.31991574 и 1197641587.4631522\n",
      "Уровень риска равен 0.3\n"
     ]
    }
   ],
   "source": [
    "print('Среднее значение прибыли для региона 1 равнв ',mean1)\n",
    "print(f'Доверительный интервал для региона 0 находится в промежутке между {lower1} и {upper1}')\n",
    "print(f'Уровень риска равен {risk1}')"
   ]
  },
  {
   "cell_type": "code",
   "execution_count": 46,
   "metadata": {},
   "outputs": [
    {
     "name": "stdout",
     "output_type": "stream",
     "text": [
      "Среднее значение прибыли для региона 2 равнв  615559722.8409678\n",
      "Доверительный интервал для региона 0 находится в промежутке между -12218495.237293953 и 1230644473.941316\n",
      "Уровень риска равен 3.0\n"
     ]
    }
   ],
   "source": [
    "print('Среднее значение прибыли для региона 2 равнв ',mean2)\n",
    "print(f'Доверительный интервал для региона 0 находится в промежутке между {lower2} и {upper2}')\n",
    "print(f'Уровень риска равен {risk2}')"
   ]
  },
  {
   "cell_type": "markdown",
   "metadata": {},
   "source": [
    "## Вывод"
   ]
  },
  {
   "cell_type": "markdown",
   "metadata": {},
   "source": [
    "Таким образом получается, что лучше всего для для разработки нам подойдет регион 1, так как уровень риска в нем ниже всего,а доверительные интервалы выше, чем  в двух других регионах."
   ]
  },
  {
   "cell_type": "markdown",
   "metadata": {},
   "source": [
    "## Чек-лист готовности проекта"
   ]
  },
  {
   "cell_type": "markdown",
   "metadata": {},
   "source": [
    "Поставьте 'x' в выполненных пунктах. Далее нажмите Shift+Enter."
   ]
  },
  {
   "cell_type": "markdown",
   "metadata": {},
   "source": [
    "- [x]  Jupyter Notebook открыт\n",
    "- [ ]  Весь код выполняется без ошибок\n",
    "- [ ]  Ячейки с кодом расположены в порядке исполнения\n",
    "- [x]  Выполнен шаг 1: данные подготовлены\n",
    "- [x]  Выполнен шаг 2: модели обучены и проверены\n",
    "    - [x]  Данные корректно разбиты на обучающую и валидационную выборки\n",
    "    - [X]  Модели обучены, предсказания сделаны\n",
    "    - [x]  Предсказания и правильные ответы на валидационной выборке сохранены\n",
    "    - [x]  На экране напечатаны результаты\n",
    "    - [x]  Сделаны выводы\n",
    "- [x]  Выполнен шаг 3: проведена подготовка к расчёту прибыли\n",
    "    - [x]  Для всех ключевых значений созданы константы Python\n",
    "    - [x]  Посчитано минимальное среднее количество продукта в месторождениях региона, достаточное для разработки\n",
    "    - [x]  По предыдущему пункту сделаны выводы\n",
    "    - [x]  Написана функция расчёта прибыли\n",
    "- [x]  Выполнен шаг 4: посчитаны риски и прибыль\n",
    "    - [x]  Проведена процедура *Bootstrap*\n",
    "    - [x]  Все параметры бутстрепа соответствуют условию\n",
    "    - [x]  Найдены все нужные величины\n",
    "    - [x]  Предложен регион для разработки месторождения\n",
    "    - [x]  Выбор региона обоснован"
   ]
  },
  {
   "cell_type": "code",
   "execution_count": null,
   "metadata": {},
   "outputs": [],
   "source": []
  }
 ],
 "metadata": {
  "ExecuteTimeLog": [
   {
    "duration": 1602,
    "start_time": "2022-12-01T16:49:15.700Z"
   },
   {
    "duration": 761,
    "start_time": "2022-12-01T16:49:17.304Z"
   },
   {
    "duration": 985,
    "start_time": "2022-12-01T16:49:18.067Z"
   },
   {
    "duration": 18,
    "start_time": "2022-12-01T16:49:19.055Z"
   },
   {
    "duration": 68,
    "start_time": "2022-12-01T16:49:19.074Z"
   },
   {
    "duration": 25,
    "start_time": "2022-12-01T16:49:19.144Z"
   },
   {
    "duration": 16,
    "start_time": "2022-12-01T16:49:19.171Z"
   },
   {
    "duration": 44,
    "start_time": "2022-12-01T16:49:19.190Z"
   },
   {
    "duration": 681,
    "start_time": "2022-12-01T16:49:19.236Z"
   },
   {
    "duration": 11,
    "start_time": "2022-12-01T16:49:19.921Z"
   },
   {
    "duration": 52,
    "start_time": "2022-12-01T16:49:19.934Z"
   },
   {
    "duration": 33,
    "start_time": "2022-12-01T16:49:19.988Z"
   },
   {
    "duration": 17,
    "start_time": "2022-12-01T16:49:20.023Z"
   },
   {
    "duration": 20,
    "start_time": "2022-12-01T16:49:20.042Z"
   },
   {
    "duration": 626,
    "start_time": "2022-12-01T16:49:20.064Z"
   },
   {
    "duration": 283,
    "start_time": "2022-12-01T16:49:20.692Z"
   },
   {
    "duration": 55,
    "start_time": "2022-12-01T16:49:20.978Z"
   },
   {
    "duration": 16,
    "start_time": "2022-12-01T16:49:21.035Z"
   },
   {
    "duration": 9,
    "start_time": "2022-12-01T16:49:21.053Z"
   },
   {
    "duration": 49,
    "start_time": "2022-12-01T16:49:21.064Z"
   },
   {
    "duration": 609,
    "start_time": "2022-12-01T16:49:21.116Z"
   },
   {
    "duration": 7,
    "start_time": "2022-12-01T16:49:21.727Z"
   },
   {
    "duration": 9,
    "start_time": "2022-12-01T16:49:21.736Z"
   },
   {
    "duration": 9,
    "start_time": "2022-12-01T16:49:21.747Z"
   },
   {
    "duration": 34,
    "start_time": "2022-12-01T16:49:21.758Z"
   },
   {
    "duration": 23,
    "start_time": "2022-12-01T16:49:21.793Z"
   },
   {
    "duration": 10,
    "start_time": "2022-12-01T16:49:21.819Z"
   },
   {
    "duration": 51,
    "start_time": "2022-12-01T16:49:21.834Z"
   },
   {
    "duration": 6,
    "start_time": "2022-12-01T16:49:21.889Z"
   },
   {
    "duration": 126,
    "start_time": "2022-12-01T16:49:21.897Z"
   },
   {
    "duration": 5,
    "start_time": "2022-12-01T16:49:22.025Z"
   },
   {
    "duration": 86,
    "start_time": "2022-12-01T16:49:22.032Z"
   },
   {
    "duration": 6,
    "start_time": "2022-12-01T16:49:22.120Z"
   },
   {
    "duration": 10,
    "start_time": "2022-12-01T16:49:22.129Z"
   },
   {
    "duration": 76,
    "start_time": "2022-12-01T16:49:22.141Z"
   },
   {
    "duration": 7,
    "start_time": "2022-12-01T16:49:22.219Z"
   },
   {
    "duration": 6,
    "start_time": "2022-12-01T16:49:22.228Z"
   },
   {
    "duration": 41,
    "start_time": "2022-12-01T16:49:22.236Z"
   },
   {
    "duration": 8,
    "start_time": "2022-12-01T16:49:22.279Z"
   },
   {
    "duration": 2529,
    "start_time": "2022-12-01T16:49:22.289Z"
   },
   {
    "duration": 7,
    "start_time": "2022-12-01T16:49:24.821Z"
   },
   {
    "duration": 30,
    "start_time": "2022-12-01T16:49:24.831Z"
   },
   {
    "duration": 22,
    "start_time": "2022-12-01T16:49:24.863Z"
   },
   {
    "duration": 8,
    "start_time": "2022-12-01T16:55:03.417Z"
   },
   {
    "duration": 11,
    "start_time": "2022-12-01T17:02:06.796Z"
   },
   {
    "duration": 9,
    "start_time": "2022-12-01T17:04:13.623Z"
   },
   {
    "duration": 1278,
    "start_time": "2022-12-01T17:10:39.033Z"
   },
   {
    "duration": 912,
    "start_time": "2022-12-01T17:10:40.313Z"
   },
   {
    "duration": 1070,
    "start_time": "2022-12-01T17:10:41.227Z"
   },
   {
    "duration": 20,
    "start_time": "2022-12-01T17:10:42.300Z"
   },
   {
    "duration": 55,
    "start_time": "2022-12-01T17:10:42.322Z"
   },
   {
    "duration": 38,
    "start_time": "2022-12-01T17:10:42.379Z"
   },
   {
    "duration": 10,
    "start_time": "2022-12-01T17:10:42.419Z"
   },
   {
    "duration": 16,
    "start_time": "2022-12-01T17:10:42.431Z"
   },
   {
    "duration": 639,
    "start_time": "2022-12-01T17:10:42.449Z"
   },
   {
    "duration": 22,
    "start_time": "2022-12-01T17:10:43.091Z"
   },
   {
    "duration": 41,
    "start_time": "2022-12-01T17:10:43.115Z"
   },
   {
    "duration": 13,
    "start_time": "2022-12-01T17:10:43.158Z"
   },
   {
    "duration": 8,
    "start_time": "2022-12-01T17:10:43.173Z"
   },
   {
    "duration": 45,
    "start_time": "2022-12-01T17:10:43.182Z"
   },
   {
    "duration": 593,
    "start_time": "2022-12-01T17:10:43.229Z"
   },
   {
    "duration": 294,
    "start_time": "2022-12-01T17:10:43.825Z"
   },
   {
    "duration": 38,
    "start_time": "2022-12-01T17:10:44.121Z"
   },
   {
    "duration": 13,
    "start_time": "2022-12-01T17:10:44.161Z"
   },
   {
    "duration": 15,
    "start_time": "2022-12-01T17:10:44.176Z"
   },
   {
    "duration": 22,
    "start_time": "2022-12-01T17:10:44.213Z"
   },
   {
    "duration": 636,
    "start_time": "2022-12-01T17:10:44.237Z"
   },
   {
    "duration": 8,
    "start_time": "2022-12-01T17:10:44.877Z"
   },
   {
    "duration": 7,
    "start_time": "2022-12-01T17:10:44.889Z"
   },
   {
    "duration": 15,
    "start_time": "2022-12-01T17:10:44.899Z"
   },
   {
    "duration": 51,
    "start_time": "2022-12-01T17:10:44.916Z"
   },
   {
    "duration": 4,
    "start_time": "2022-12-01T17:10:44.969Z"
   },
   {
    "duration": 10,
    "start_time": "2022-12-01T17:10:44.975Z"
   },
   {
    "duration": 46,
    "start_time": "2022-12-01T17:10:44.989Z"
   },
   {
    "duration": 5,
    "start_time": "2022-12-01T17:10:45.037Z"
   },
   {
    "duration": 75,
    "start_time": "2022-12-01T17:10:45.047Z"
   },
   {
    "duration": 94,
    "start_time": "2022-12-01T17:10:45.124Z"
   },
   {
    "duration": 102,
    "start_time": "2022-12-01T17:10:45.220Z"
   },
   {
    "duration": 6,
    "start_time": "2022-12-01T17:10:45.324Z"
   },
   {
    "duration": 6,
    "start_time": "2022-12-01T17:10:45.332Z"
   },
   {
    "duration": 15,
    "start_time": "2022-12-01T17:10:45.340Z"
   },
   {
    "duration": 23,
    "start_time": "2022-12-01T17:10:45.357Z"
   },
   {
    "duration": 9,
    "start_time": "2022-12-01T17:10:45.383Z"
   },
   {
    "duration": 26,
    "start_time": "2022-12-01T17:10:45.395Z"
   },
   {
    "duration": 5,
    "start_time": "2022-12-01T17:10:45.423Z"
   },
   {
    "duration": 15,
    "start_time": "2022-12-01T17:10:45.430Z"
   },
   {
    "duration": 27,
    "start_time": "2022-12-01T17:10:45.447Z"
   },
   {
    "duration": 162,
    "start_time": "2022-12-01T17:10:45.476Z"
   },
   {
    "duration": 0,
    "start_time": "2022-12-01T17:10:45.640Z"
   },
   {
    "duration": 0,
    "start_time": "2022-12-01T17:10:45.642Z"
   },
   {
    "duration": 0,
    "start_time": "2022-12-01T17:10:45.643Z"
   },
   {
    "duration": 1333,
    "start_time": "2022-12-01T17:12:20.104Z"
   },
   {
    "duration": 676,
    "start_time": "2022-12-01T17:12:21.439Z"
   },
   {
    "duration": 859,
    "start_time": "2022-12-01T17:12:22.117Z"
   },
   {
    "duration": 21,
    "start_time": "2022-12-01T17:12:22.979Z"
   },
   {
    "duration": 61,
    "start_time": "2022-12-01T17:12:23.001Z"
   },
   {
    "duration": 15,
    "start_time": "2022-12-01T17:12:23.064Z"
   },
   {
    "duration": 32,
    "start_time": "2022-12-01T17:12:23.081Z"
   },
   {
    "duration": 24,
    "start_time": "2022-12-01T17:12:23.115Z"
   },
   {
    "duration": 652,
    "start_time": "2022-12-01T17:12:23.141Z"
   },
   {
    "duration": 17,
    "start_time": "2022-12-01T17:12:23.797Z"
   },
   {
    "duration": 42,
    "start_time": "2022-12-01T17:12:23.816Z"
   },
   {
    "duration": 11,
    "start_time": "2022-12-01T17:12:23.860Z"
   },
   {
    "duration": 7,
    "start_time": "2022-12-01T17:12:23.873Z"
   },
   {
    "duration": 42,
    "start_time": "2022-12-01T17:12:23.882Z"
   },
   {
    "duration": 595,
    "start_time": "2022-12-01T17:12:23.927Z"
   },
   {
    "duration": 278,
    "start_time": "2022-12-01T17:12:24.524Z"
   },
   {
    "duration": 44,
    "start_time": "2022-12-01T17:12:24.804Z"
   },
   {
    "duration": 12,
    "start_time": "2022-12-01T17:12:24.850Z"
   },
   {
    "duration": 7,
    "start_time": "2022-12-01T17:12:24.865Z"
   },
   {
    "duration": 53,
    "start_time": "2022-12-01T17:12:24.874Z"
   },
   {
    "duration": 604,
    "start_time": "2022-12-01T17:12:24.930Z"
   },
   {
    "duration": 4,
    "start_time": "2022-12-01T17:12:25.536Z"
   },
   {
    "duration": 9,
    "start_time": "2022-12-01T17:12:25.542Z"
   },
   {
    "duration": 8,
    "start_time": "2022-12-01T17:12:25.553Z"
   },
   {
    "duration": 51,
    "start_time": "2022-12-01T17:12:25.563Z"
   },
   {
    "duration": 4,
    "start_time": "2022-12-01T17:12:25.615Z"
   },
   {
    "duration": 9,
    "start_time": "2022-12-01T17:12:25.621Z"
   },
   {
    "duration": 32,
    "start_time": "2022-12-01T17:12:25.634Z"
   },
   {
    "duration": 4,
    "start_time": "2022-12-01T17:12:25.669Z"
   },
   {
    "duration": 241,
    "start_time": "2022-12-01T17:12:25.675Z"
   },
   {
    "duration": 4,
    "start_time": "2022-12-01T17:12:25.918Z"
   },
   {
    "duration": 94,
    "start_time": "2022-12-01T17:12:25.924Z"
   },
   {
    "duration": 95,
    "start_time": "2022-12-01T17:12:26.019Z"
   },
   {
    "duration": 8,
    "start_time": "2022-12-01T17:12:26.116Z"
   },
   {
    "duration": 8,
    "start_time": "2022-12-01T17:12:26.126Z"
   },
   {
    "duration": 5,
    "start_time": "2022-12-01T17:12:26.136Z"
   },
   {
    "duration": 6,
    "start_time": "2022-12-01T17:12:26.143Z"
   },
   {
    "duration": 21,
    "start_time": "2022-12-01T17:12:26.151Z"
   },
   {
    "duration": 6,
    "start_time": "2022-12-01T17:12:26.174Z"
   },
   {
    "duration": 9,
    "start_time": "2022-12-01T17:12:26.213Z"
   },
   {
    "duration": 13,
    "start_time": "2022-12-01T17:12:26.224Z"
   },
   {
    "duration": 3731,
    "start_time": "2022-12-01T17:12:26.239Z"
   },
   {
    "duration": 5,
    "start_time": "2022-12-01T17:12:29.972Z"
   },
   {
    "duration": 14,
    "start_time": "2022-12-01T17:12:29.979Z"
   },
   {
    "duration": 23,
    "start_time": "2022-12-01T17:12:29.995Z"
   },
   {
    "duration": 1175,
    "start_time": "2022-12-01T17:21:38.372Z"
   },
   {
    "duration": 710,
    "start_time": "2022-12-01T17:21:39.550Z"
   },
   {
    "duration": 947,
    "start_time": "2022-12-01T17:21:40.262Z"
   },
   {
    "duration": 18,
    "start_time": "2022-12-01T17:21:41.211Z"
   },
   {
    "duration": 41,
    "start_time": "2022-12-01T17:21:41.231Z"
   },
   {
    "duration": 43,
    "start_time": "2022-12-01T17:21:41.273Z"
   },
   {
    "duration": 11,
    "start_time": "2022-12-01T17:21:41.317Z"
   },
   {
    "duration": 16,
    "start_time": "2022-12-01T17:21:41.330Z"
   },
   {
    "duration": 585,
    "start_time": "2022-12-01T17:21:41.347Z"
   },
   {
    "duration": 11,
    "start_time": "2022-12-01T17:21:41.935Z"
   },
   {
    "duration": 41,
    "start_time": "2022-12-01T17:21:41.948Z"
   },
   {
    "duration": 27,
    "start_time": "2022-12-01T17:21:41.991Z"
   },
   {
    "duration": 12,
    "start_time": "2022-12-01T17:21:42.020Z"
   },
   {
    "duration": 18,
    "start_time": "2022-12-01T17:21:42.034Z"
   },
   {
    "duration": 554,
    "start_time": "2022-12-01T17:21:42.054Z"
   },
   {
    "duration": 257,
    "start_time": "2022-12-01T17:21:42.611Z"
   },
   {
    "duration": 49,
    "start_time": "2022-12-01T17:21:42.870Z"
   },
   {
    "duration": 10,
    "start_time": "2022-12-01T17:21:42.921Z"
   },
   {
    "duration": 7,
    "start_time": "2022-12-01T17:21:42.933Z"
   },
   {
    "duration": 15,
    "start_time": "2022-12-01T17:21:42.942Z"
   },
   {
    "duration": 606,
    "start_time": "2022-12-01T17:21:42.959Z"
   },
   {
    "duration": 5,
    "start_time": "2022-12-01T17:21:43.567Z"
   },
   {
    "duration": 11,
    "start_time": "2022-12-01T17:21:43.573Z"
   },
   {
    "duration": 7,
    "start_time": "2022-12-01T17:21:43.586Z"
   },
   {
    "duration": 41,
    "start_time": "2022-12-01T17:21:43.595Z"
   },
   {
    "duration": 5,
    "start_time": "2022-12-01T17:21:43.637Z"
   },
   {
    "duration": 6,
    "start_time": "2022-12-01T17:21:43.643Z"
   },
   {
    "duration": 30,
    "start_time": "2022-12-01T17:21:43.652Z"
   },
   {
    "duration": 4,
    "start_time": "2022-12-01T17:21:43.684Z"
   },
   {
    "duration": 404,
    "start_time": "2022-12-01T17:21:43.712Z"
   },
   {
    "duration": 6,
    "start_time": "2022-12-01T17:21:44.119Z"
   },
   {
    "duration": 101,
    "start_time": "2022-12-01T17:21:44.127Z"
   },
   {
    "duration": 5,
    "start_time": "2022-12-01T17:21:44.230Z"
   },
   {
    "duration": 7,
    "start_time": "2022-12-01T17:21:44.237Z"
   },
   {
    "duration": 6,
    "start_time": "2022-12-01T17:21:44.246Z"
   },
   {
    "duration": 8,
    "start_time": "2022-12-01T17:21:44.254Z"
   },
   {
    "duration": 6,
    "start_time": "2022-12-01T17:21:44.264Z"
   },
   {
    "duration": 42,
    "start_time": "2022-12-01T17:21:44.272Z"
   },
   {
    "duration": 5,
    "start_time": "2022-12-01T17:21:44.316Z"
   },
   {
    "duration": 4323,
    "start_time": "2022-12-01T17:21:44.323Z"
   },
   {
    "duration": 4,
    "start_time": "2022-12-01T17:21:48.649Z"
   },
   {
    "duration": 11,
    "start_time": "2022-12-01T17:21:48.655Z"
   },
   {
    "duration": 11,
    "start_time": "2022-12-01T17:21:48.668Z"
   },
   {
    "duration": 1235,
    "start_time": "2022-12-01T17:26:07.314Z"
   },
   {
    "duration": 730,
    "start_time": "2022-12-01T17:26:08.551Z"
   },
   {
    "duration": 1093,
    "start_time": "2022-12-01T17:26:09.283Z"
   },
   {
    "duration": 21,
    "start_time": "2022-12-01T17:26:10.379Z"
   },
   {
    "duration": 59,
    "start_time": "2022-12-01T17:26:10.413Z"
   },
   {
    "duration": 38,
    "start_time": "2022-12-01T17:26:10.474Z"
   },
   {
    "duration": 17,
    "start_time": "2022-12-01T17:26:10.515Z"
   },
   {
    "duration": 18,
    "start_time": "2022-12-01T17:26:10.534Z"
   },
   {
    "duration": 639,
    "start_time": "2022-12-01T17:26:10.554Z"
   },
   {
    "duration": 17,
    "start_time": "2022-12-01T17:26:11.197Z"
   },
   {
    "duration": 68,
    "start_time": "2022-12-01T17:26:11.216Z"
   },
   {
    "duration": 12,
    "start_time": "2022-12-01T17:26:11.286Z"
   },
   {
    "duration": 33,
    "start_time": "2022-12-01T17:26:11.300Z"
   },
   {
    "duration": 37,
    "start_time": "2022-12-01T17:26:11.335Z"
   },
   {
    "duration": 24,
    "start_time": "2022-12-01T17:26:11.374Z"
   },
   {
    "duration": 486,
    "start_time": "2022-12-01T17:26:11.400Z"
   },
   {
    "duration": 196,
    "start_time": "2022-12-01T17:26:11.890Z"
   },
   {
    "duration": 49,
    "start_time": "2022-12-01T17:26:12.088Z"
   },
   {
    "duration": 12,
    "start_time": "2022-12-01T17:26:12.139Z"
   },
   {
    "duration": 20,
    "start_time": "2022-12-01T17:26:12.153Z"
   },
   {
    "duration": 29,
    "start_time": "2022-12-01T17:26:12.175Z"
   },
   {
    "duration": 711,
    "start_time": "2022-12-01T17:26:12.206Z"
   },
   {
    "duration": 5,
    "start_time": "2022-12-01T17:26:12.919Z"
   },
   {
    "duration": 10,
    "start_time": "2022-12-01T17:26:12.926Z"
   },
   {
    "duration": 7,
    "start_time": "2022-12-01T17:26:12.938Z"
   },
   {
    "duration": 36,
    "start_time": "2022-12-01T17:26:12.947Z"
   },
   {
    "duration": 4,
    "start_time": "2022-12-01T17:26:12.986Z"
   },
   {
    "duration": 6,
    "start_time": "2022-12-01T17:26:13.020Z"
   },
   {
    "duration": 49,
    "start_time": "2022-12-01T17:26:13.028Z"
   },
   {
    "duration": 6,
    "start_time": "2022-12-01T17:26:13.079Z"
   },
   {
    "duration": 125,
    "start_time": "2022-12-01T17:26:13.088Z"
   },
   {
    "duration": 5,
    "start_time": "2022-12-01T17:26:13.215Z"
   },
   {
    "duration": 103,
    "start_time": "2022-12-01T17:26:13.222Z"
   },
   {
    "duration": 4,
    "start_time": "2022-12-01T17:26:13.327Z"
   },
   {
    "duration": 7,
    "start_time": "2022-12-01T17:26:13.333Z"
   },
   {
    "duration": 12,
    "start_time": "2022-12-01T17:26:13.342Z"
   },
   {
    "duration": 9,
    "start_time": "2022-12-01T17:26:13.356Z"
   },
   {
    "duration": 6,
    "start_time": "2022-12-01T17:26:13.367Z"
   },
   {
    "duration": 22,
    "start_time": "2022-12-01T17:26:13.376Z"
   },
   {
    "duration": 5,
    "start_time": "2022-12-01T17:26:13.413Z"
   },
   {
    "duration": 2648,
    "start_time": "2022-12-01T17:26:13.421Z"
   },
   {
    "duration": 6,
    "start_time": "2022-12-01T17:26:16.071Z"
   },
   {
    "duration": 9,
    "start_time": "2022-12-01T17:26:16.079Z"
   },
   {
    "duration": 22,
    "start_time": "2022-12-01T17:26:16.090Z"
   },
   {
    "duration": 42,
    "start_time": "2022-12-02T07:12:04.480Z"
   },
   {
    "duration": 1350,
    "start_time": "2022-12-02T07:12:14.328Z"
   },
   {
    "duration": 268,
    "start_time": "2022-12-02T07:12:15.680Z"
   },
   {
    "duration": 1444,
    "start_time": "2022-12-02T07:12:15.949Z"
   },
   {
    "duration": 112,
    "start_time": "2022-12-02T07:12:17.395Z"
   },
   {
    "duration": 0,
    "start_time": "2022-12-02T07:12:17.510Z"
   },
   {
    "duration": 0,
    "start_time": "2022-12-02T07:12:17.511Z"
   },
   {
    "duration": 0,
    "start_time": "2022-12-02T07:12:17.512Z"
   },
   {
    "duration": 0,
    "start_time": "2022-12-02T07:12:17.513Z"
   },
   {
    "duration": 0,
    "start_time": "2022-12-02T07:12:17.514Z"
   },
   {
    "duration": 0,
    "start_time": "2022-12-02T07:12:17.521Z"
   },
   {
    "duration": 0,
    "start_time": "2022-12-02T07:12:17.522Z"
   },
   {
    "duration": 0,
    "start_time": "2022-12-02T07:12:17.523Z"
   },
   {
    "duration": 0,
    "start_time": "2022-12-02T07:12:17.524Z"
   },
   {
    "duration": 0,
    "start_time": "2022-12-02T07:12:17.525Z"
   },
   {
    "duration": 0,
    "start_time": "2022-12-02T07:12:17.526Z"
   },
   {
    "duration": 0,
    "start_time": "2022-12-02T07:12:17.527Z"
   },
   {
    "duration": 0,
    "start_time": "2022-12-02T07:12:17.528Z"
   },
   {
    "duration": 0,
    "start_time": "2022-12-02T07:12:17.529Z"
   },
   {
    "duration": 0,
    "start_time": "2022-12-02T07:12:17.530Z"
   },
   {
    "duration": 0,
    "start_time": "2022-12-02T07:12:17.531Z"
   },
   {
    "duration": 0,
    "start_time": "2022-12-02T07:12:17.532Z"
   },
   {
    "duration": 0,
    "start_time": "2022-12-02T07:12:17.533Z"
   },
   {
    "duration": 0,
    "start_time": "2022-12-02T07:12:17.533Z"
   },
   {
    "duration": 0,
    "start_time": "2022-12-02T07:12:17.535Z"
   },
   {
    "duration": 0,
    "start_time": "2022-12-02T07:12:17.536Z"
   },
   {
    "duration": 0,
    "start_time": "2022-12-02T07:12:17.537Z"
   },
   {
    "duration": 0,
    "start_time": "2022-12-02T07:12:17.538Z"
   },
   {
    "duration": 0,
    "start_time": "2022-12-02T07:12:17.538Z"
   },
   {
    "duration": 0,
    "start_time": "2022-12-02T07:12:17.539Z"
   },
   {
    "duration": 0,
    "start_time": "2022-12-02T07:12:17.540Z"
   },
   {
    "duration": 0,
    "start_time": "2022-12-02T07:12:17.541Z"
   },
   {
    "duration": 0,
    "start_time": "2022-12-02T07:12:17.542Z"
   },
   {
    "duration": 0,
    "start_time": "2022-12-02T07:12:17.544Z"
   },
   {
    "duration": 0,
    "start_time": "2022-12-02T07:12:17.545Z"
   },
   {
    "duration": 0,
    "start_time": "2022-12-02T07:12:17.546Z"
   },
   {
    "duration": 0,
    "start_time": "2022-12-02T07:12:17.547Z"
   },
   {
    "duration": 0,
    "start_time": "2022-12-02T07:12:17.548Z"
   },
   {
    "duration": 0,
    "start_time": "2022-12-02T07:12:17.549Z"
   },
   {
    "duration": 0,
    "start_time": "2022-12-02T07:12:17.550Z"
   },
   {
    "duration": 0,
    "start_time": "2022-12-02T07:12:17.551Z"
   },
   {
    "duration": 0,
    "start_time": "2022-12-02T07:12:17.552Z"
   },
   {
    "duration": 0,
    "start_time": "2022-12-02T07:12:17.553Z"
   },
   {
    "duration": 0,
    "start_time": "2022-12-02T07:12:17.555Z"
   },
   {
    "duration": 0,
    "start_time": "2022-12-02T07:12:17.556Z"
   },
   {
    "duration": 8,
    "start_time": "2022-12-02T07:12:27.923Z"
   },
   {
    "duration": 7,
    "start_time": "2022-12-02T07:12:33.026Z"
   },
   {
    "duration": 38,
    "start_time": "2022-12-02T07:12:47.139Z"
   },
   {
    "duration": 14,
    "start_time": "2022-12-02T07:12:48.446Z"
   },
   {
    "duration": 9,
    "start_time": "2022-12-02T07:12:48.604Z"
   },
   {
    "duration": 10,
    "start_time": "2022-12-02T07:14:01.626Z"
   },
   {
    "duration": 302,
    "start_time": "2022-12-02T07:14:16.223Z"
   },
   {
    "duration": 1098,
    "start_time": "2022-12-02T07:14:49.347Z"
   },
   {
    "duration": 236,
    "start_time": "2022-12-02T07:14:50.448Z"
   },
   {
    "duration": 1218,
    "start_time": "2022-12-02T07:14:50.686Z"
   },
   {
    "duration": 5,
    "start_time": "2022-12-02T07:14:51.906Z"
   },
   {
    "duration": 48,
    "start_time": "2022-12-02T07:14:51.913Z"
   },
   {
    "duration": 13,
    "start_time": "2022-12-02T07:14:51.962Z"
   },
   {
    "duration": 16,
    "start_time": "2022-12-02T07:14:51.976Z"
   },
   {
    "duration": 292,
    "start_time": "2022-12-02T07:14:51.993Z"
   },
   {
    "duration": 530,
    "start_time": "2022-12-02T07:14:52.287Z"
   },
   {
    "duration": 13,
    "start_time": "2022-12-02T07:14:52.822Z"
   },
   {
    "duration": 38,
    "start_time": "2022-12-02T07:14:52.837Z"
   },
   {
    "duration": 10,
    "start_time": "2022-12-02T07:14:52.877Z"
   },
   {
    "duration": 12,
    "start_time": "2022-12-02T07:14:52.888Z"
   },
   {
    "duration": 278,
    "start_time": "2022-12-02T07:14:52.903Z"
   },
   {
    "duration": 4,
    "start_time": "2022-12-02T07:14:53.183Z"
   },
   {
    "duration": 490,
    "start_time": "2022-12-02T07:14:53.189Z"
   },
   {
    "duration": 163,
    "start_time": "2022-12-02T07:14:53.681Z"
   },
   {
    "duration": 36,
    "start_time": "2022-12-02T07:14:53.845Z"
   },
   {
    "duration": 9,
    "start_time": "2022-12-02T07:14:53.882Z"
   },
   {
    "duration": 29,
    "start_time": "2022-12-02T07:14:53.893Z"
   },
   {
    "duration": 14,
    "start_time": "2022-12-02T07:14:53.924Z"
   },
   {
    "duration": 570,
    "start_time": "2022-12-02T07:14:53.939Z"
   },
   {
    "duration": 11,
    "start_time": "2022-12-02T07:14:54.511Z"
   },
   {
    "duration": 11,
    "start_time": "2022-12-02T07:14:54.523Z"
   },
   {
    "duration": 7,
    "start_time": "2022-12-02T07:14:54.536Z"
   },
   {
    "duration": 32,
    "start_time": "2022-12-02T07:14:54.545Z"
   },
   {
    "duration": 4,
    "start_time": "2022-12-02T07:14:54.579Z"
   },
   {
    "duration": 6,
    "start_time": "2022-12-02T07:14:54.584Z"
   },
   {
    "duration": 41,
    "start_time": "2022-12-02T07:14:54.592Z"
   },
   {
    "duration": 4,
    "start_time": "2022-12-02T07:14:54.635Z"
   },
   {
    "duration": 181,
    "start_time": "2022-12-02T07:14:54.641Z"
   },
   {
    "duration": 96,
    "start_time": "2022-12-02T07:14:54.827Z"
   },
   {
    "duration": 6,
    "start_time": "2022-12-02T07:14:54.924Z"
   },
   {
    "duration": 6,
    "start_time": "2022-12-02T07:14:54.932Z"
   },
   {
    "duration": 7,
    "start_time": "2022-12-02T07:14:54.939Z"
   },
   {
    "duration": 7,
    "start_time": "2022-12-02T07:14:54.947Z"
   },
   {
    "duration": 7,
    "start_time": "2022-12-02T07:14:54.956Z"
   },
   {
    "duration": 6,
    "start_time": "2022-12-02T07:14:54.964Z"
   },
   {
    "duration": 23,
    "start_time": "2022-12-02T07:14:54.971Z"
   },
   {
    "duration": 5,
    "start_time": "2022-12-02T07:14:54.995Z"
   },
   {
    "duration": 2224,
    "start_time": "2022-12-02T07:14:55.024Z"
   },
   {
    "duration": 3,
    "start_time": "2022-12-02T07:14:57.250Z"
   },
   {
    "duration": 28,
    "start_time": "2022-12-02T07:14:57.255Z"
   },
   {
    "duration": 13,
    "start_time": "2022-12-02T07:14:57.285Z"
   },
   {
    "duration": 74,
    "start_time": "2022-12-02T07:15:15.716Z"
   },
   {
    "duration": 243,
    "start_time": "2022-12-02T07:15:18.941Z"
   },
   {
    "duration": 218,
    "start_time": "2022-12-02T07:15:40.046Z"
   },
   {
    "duration": 108,
    "start_time": "2022-12-02T07:16:08.450Z"
   },
   {
    "duration": 1205,
    "start_time": "2022-12-02T07:16:31.546Z"
   },
   {
    "duration": 309,
    "start_time": "2022-12-02T07:16:32.753Z"
   },
   {
    "duration": 1094,
    "start_time": "2022-12-02T07:16:33.064Z"
   },
   {
    "duration": 7,
    "start_time": "2022-12-02T07:16:34.160Z"
   },
   {
    "duration": 58,
    "start_time": "2022-12-02T07:16:34.169Z"
   },
   {
    "duration": 15,
    "start_time": "2022-12-02T07:16:34.228Z"
   },
   {
    "duration": 9,
    "start_time": "2022-12-02T07:16:34.245Z"
   },
   {
    "duration": 328,
    "start_time": "2022-12-02T07:16:34.256Z"
   },
   {
    "duration": 561,
    "start_time": "2022-12-02T07:16:34.586Z"
   },
   {
    "duration": 14,
    "start_time": "2022-12-02T07:16:35.149Z"
   },
   {
    "duration": 37,
    "start_time": "2022-12-02T07:16:35.165Z"
   },
   {
    "duration": 21,
    "start_time": "2022-12-02T07:16:35.204Z"
   },
   {
    "duration": 6,
    "start_time": "2022-12-02T07:16:35.227Z"
   },
   {
    "duration": 252,
    "start_time": "2022-12-02T07:16:35.236Z"
   },
   {
    "duration": 633,
    "start_time": "2022-12-02T07:16:35.490Z"
   },
   {
    "duration": 165,
    "start_time": "2022-12-02T07:16:36.125Z"
   },
   {
    "duration": 44,
    "start_time": "2022-12-02T07:16:36.292Z"
   },
   {
    "duration": 9,
    "start_time": "2022-12-02T07:16:36.338Z"
   },
   {
    "duration": 5,
    "start_time": "2022-12-02T07:16:36.348Z"
   },
   {
    "duration": 15,
    "start_time": "2022-12-02T07:16:36.355Z"
   },
   {
    "duration": 542,
    "start_time": "2022-12-02T07:16:36.371Z"
   },
   {
    "duration": 5,
    "start_time": "2022-12-02T07:16:36.923Z"
   },
   {
    "duration": 23,
    "start_time": "2022-12-02T07:16:36.930Z"
   },
   {
    "duration": 6,
    "start_time": "2022-12-02T07:16:36.955Z"
   },
   {
    "duration": 32,
    "start_time": "2022-12-02T07:16:36.963Z"
   },
   {
    "duration": 3,
    "start_time": "2022-12-02T07:16:36.997Z"
   },
   {
    "duration": 5,
    "start_time": "2022-12-02T07:16:37.002Z"
   },
   {
    "duration": 35,
    "start_time": "2022-12-02T07:16:37.008Z"
   },
   {
    "duration": 4,
    "start_time": "2022-12-02T07:16:37.045Z"
   },
   {
    "duration": 173,
    "start_time": "2022-12-02T07:16:37.051Z"
   },
   {
    "duration": 4,
    "start_time": "2022-12-02T07:16:37.226Z"
   },
   {
    "duration": 103,
    "start_time": "2022-12-02T07:16:37.231Z"
   },
   {
    "duration": 3,
    "start_time": "2022-12-02T07:16:37.335Z"
   },
   {
    "duration": 7,
    "start_time": "2022-12-02T07:16:37.339Z"
   },
   {
    "duration": 4,
    "start_time": "2022-12-02T07:16:37.347Z"
   },
   {
    "duration": 6,
    "start_time": "2022-12-02T07:16:37.352Z"
   },
   {
    "duration": 5,
    "start_time": "2022-12-02T07:16:37.359Z"
   },
   {
    "duration": 66,
    "start_time": "2022-12-02T07:16:37.365Z"
   },
   {
    "duration": 4,
    "start_time": "2022-12-02T07:16:37.433Z"
   },
   {
    "duration": 2368,
    "start_time": "2022-12-02T07:16:37.439Z"
   },
   {
    "duration": 10,
    "start_time": "2022-12-02T07:16:39.812Z"
   },
   {
    "duration": 28,
    "start_time": "2022-12-02T07:16:39.824Z"
   },
   {
    "duration": 33,
    "start_time": "2022-12-02T07:16:39.853Z"
   },
   {
    "duration": 71,
    "start_time": "2022-12-02T07:17:57.069Z"
   },
   {
    "duration": 80,
    "start_time": "2022-12-02T07:21:02.295Z"
   },
   {
    "duration": 17,
    "start_time": "2022-12-02T07:21:20.718Z"
   },
   {
    "duration": 265,
    "start_time": "2022-12-02T07:22:48.214Z"
   },
   {
    "duration": 264,
    "start_time": "2022-12-02T07:22:53.861Z"
   },
   {
    "duration": 5,
    "start_time": "2022-12-02T07:23:20.451Z"
   },
   {
    "duration": 112,
    "start_time": "2022-12-02T07:27:48.972Z"
   },
   {
    "duration": 34,
    "start_time": "2022-12-02T07:27:52.638Z"
   },
   {
    "duration": 29,
    "start_time": "2022-12-02T07:27:59.126Z"
   },
   {
    "duration": 122,
    "start_time": "2022-12-02T07:28:20.649Z"
   },
   {
    "duration": 12,
    "start_time": "2022-12-02T07:28:24.758Z"
   },
   {
    "duration": 12,
    "start_time": "2022-12-02T07:30:46.536Z"
   },
   {
    "duration": 10,
    "start_time": "2022-12-02T07:31:03.153Z"
   },
   {
    "duration": 13,
    "start_time": "2022-12-02T07:32:52.636Z"
   },
   {
    "duration": 15,
    "start_time": "2022-12-02T07:35:25.518Z"
   },
   {
    "duration": 1245,
    "start_time": "2022-12-02T07:35:57.090Z"
   },
   {
    "duration": 251,
    "start_time": "2022-12-02T07:35:58.337Z"
   },
   {
    "duration": 1210,
    "start_time": "2022-12-02T07:35:58.590Z"
   },
   {
    "duration": 5,
    "start_time": "2022-12-02T07:35:59.802Z"
   },
   {
    "duration": 67,
    "start_time": "2022-12-02T07:35:59.809Z"
   },
   {
    "duration": 15,
    "start_time": "2022-12-02T07:35:59.878Z"
   },
   {
    "duration": 11,
    "start_time": "2022-12-02T07:35:59.895Z"
   },
   {
    "duration": 311,
    "start_time": "2022-12-02T07:35:59.907Z"
   },
   {
    "duration": 561,
    "start_time": "2022-12-02T07:36:00.229Z"
   },
   {
    "duration": 14,
    "start_time": "2022-12-02T07:36:00.792Z"
   },
   {
    "duration": 66,
    "start_time": "2022-12-02T07:36:00.808Z"
   },
   {
    "duration": 11,
    "start_time": "2022-12-02T07:36:00.877Z"
   },
   {
    "duration": 8,
    "start_time": "2022-12-02T07:36:00.891Z"
   },
   {
    "duration": 286,
    "start_time": "2022-12-02T07:36:00.903Z"
   },
   {
    "duration": 621,
    "start_time": "2022-12-02T07:36:01.191Z"
   },
   {
    "duration": 177,
    "start_time": "2022-12-02T07:36:01.814Z"
   },
   {
    "duration": 4,
    "start_time": "2022-12-02T07:36:01.993Z"
   },
   {
    "duration": 58,
    "start_time": "2022-12-02T07:36:01.998Z"
   },
   {
    "duration": 9,
    "start_time": "2022-12-02T07:36:02.058Z"
   },
   {
    "duration": 9,
    "start_time": "2022-12-02T07:36:02.069Z"
   },
   {
    "duration": 303,
    "start_time": "2022-12-02T07:36:02.079Z"
   },
   {
    "duration": 558,
    "start_time": "2022-12-02T07:36:02.384Z"
   },
   {
    "duration": 5,
    "start_time": "2022-12-02T07:36:02.943Z"
   },
   {
    "duration": 8,
    "start_time": "2022-12-02T07:36:02.949Z"
   },
   {
    "duration": 17,
    "start_time": "2022-12-02T07:36:02.959Z"
   },
   {
    "duration": 29,
    "start_time": "2022-12-02T07:36:02.979Z"
   },
   {
    "duration": 4,
    "start_time": "2022-12-02T07:36:03.009Z"
   },
   {
    "duration": 35,
    "start_time": "2022-12-02T07:36:03.014Z"
   },
   {
    "duration": 142,
    "start_time": "2022-12-02T07:36:03.051Z"
   },
   {
    "duration": 0,
    "start_time": "2022-12-02T07:36:03.195Z"
   },
   {
    "duration": 0,
    "start_time": "2022-12-02T07:36:03.196Z"
   },
   {
    "duration": 0,
    "start_time": "2022-12-02T07:36:03.197Z"
   },
   {
    "duration": 0,
    "start_time": "2022-12-02T07:36:03.199Z"
   },
   {
    "duration": 0,
    "start_time": "2022-12-02T07:36:03.200Z"
   },
   {
    "duration": 0,
    "start_time": "2022-12-02T07:36:03.202Z"
   },
   {
    "duration": 0,
    "start_time": "2022-12-02T07:36:03.203Z"
   },
   {
    "duration": 0,
    "start_time": "2022-12-02T07:36:03.204Z"
   },
   {
    "duration": 0,
    "start_time": "2022-12-02T07:36:03.206Z"
   },
   {
    "duration": 0,
    "start_time": "2022-12-02T07:36:03.224Z"
   },
   {
    "duration": 0,
    "start_time": "2022-12-02T07:36:03.235Z"
   },
   {
    "duration": 0,
    "start_time": "2022-12-02T07:36:03.237Z"
   },
   {
    "duration": 0,
    "start_time": "2022-12-02T07:36:03.238Z"
   },
   {
    "duration": 1,
    "start_time": "2022-12-02T07:36:03.239Z"
   },
   {
    "duration": 0,
    "start_time": "2022-12-02T07:36:03.241Z"
   },
   {
    "duration": 14,
    "start_time": "2022-12-02T07:36:49.193Z"
   },
   {
    "duration": 34,
    "start_time": "2022-12-02T07:38:55.604Z"
   },
   {
    "duration": 1216,
    "start_time": "2022-12-02T07:39:01.795Z"
   },
   {
    "duration": 254,
    "start_time": "2022-12-02T07:39:03.013Z"
   },
   {
    "duration": 1041,
    "start_time": "2022-12-02T07:39:03.269Z"
   },
   {
    "duration": 5,
    "start_time": "2022-12-02T07:39:04.312Z"
   },
   {
    "duration": 40,
    "start_time": "2022-12-02T07:39:04.332Z"
   },
   {
    "duration": 15,
    "start_time": "2022-12-02T07:39:04.373Z"
   },
   {
    "duration": 9,
    "start_time": "2022-12-02T07:39:04.389Z"
   },
   {
    "duration": 312,
    "start_time": "2022-12-02T07:39:04.399Z"
   },
   {
    "duration": 554,
    "start_time": "2022-12-02T07:39:04.712Z"
   },
   {
    "duration": 13,
    "start_time": "2022-12-02T07:39:05.268Z"
   },
   {
    "duration": 54,
    "start_time": "2022-12-02T07:39:05.282Z"
   },
   {
    "duration": 10,
    "start_time": "2022-12-02T07:39:05.338Z"
   },
   {
    "duration": 5,
    "start_time": "2022-12-02T07:39:05.350Z"
   },
   {
    "duration": 268,
    "start_time": "2022-12-02T07:39:05.358Z"
   },
   {
    "duration": 634,
    "start_time": "2022-12-02T07:39:05.636Z"
   },
   {
    "duration": 184,
    "start_time": "2022-12-02T07:39:06.271Z"
   },
   {
    "duration": 3,
    "start_time": "2022-12-02T07:39:06.457Z"
   },
   {
    "duration": 38,
    "start_time": "2022-12-02T07:39:06.462Z"
   },
   {
    "duration": 34,
    "start_time": "2022-12-02T07:39:06.501Z"
   },
   {
    "duration": 6,
    "start_time": "2022-12-02T07:39:06.537Z"
   },
   {
    "duration": 249,
    "start_time": "2022-12-02T07:39:06.545Z"
   },
   {
    "duration": 565,
    "start_time": "2022-12-02T07:39:06.795Z"
   },
   {
    "duration": 5,
    "start_time": "2022-12-02T07:39:07.362Z"
   },
   {
    "duration": 8,
    "start_time": "2022-12-02T07:39:07.368Z"
   },
   {
    "duration": 8,
    "start_time": "2022-12-02T07:39:07.377Z"
   },
   {
    "duration": 45,
    "start_time": "2022-12-02T07:39:07.386Z"
   },
   {
    "duration": 4,
    "start_time": "2022-12-02T07:39:07.437Z"
   },
   {
    "duration": 5,
    "start_time": "2022-12-02T07:39:07.443Z"
   },
   {
    "duration": 32,
    "start_time": "2022-12-02T07:39:07.449Z"
   },
   {
    "duration": 4,
    "start_time": "2022-12-02T07:39:07.482Z"
   },
   {
    "duration": 57,
    "start_time": "2022-12-02T07:39:07.487Z"
   },
   {
    "duration": 4,
    "start_time": "2022-12-02T07:39:07.623Z"
   },
   {
    "duration": 112,
    "start_time": "2022-12-02T07:39:07.629Z"
   },
   {
    "duration": 6,
    "start_time": "2022-12-02T07:39:07.743Z"
   },
   {
    "duration": 7,
    "start_time": "2022-12-02T07:39:07.750Z"
   },
   {
    "duration": 10,
    "start_time": "2022-12-02T07:39:07.759Z"
   },
   {
    "duration": 11,
    "start_time": "2022-12-02T07:39:07.771Z"
   },
   {
    "duration": 9,
    "start_time": "2022-12-02T07:39:07.784Z"
   },
   {
    "duration": 19,
    "start_time": "2022-12-02T07:39:07.794Z"
   },
   {
    "duration": 5,
    "start_time": "2022-12-02T07:39:07.814Z"
   },
   {
    "duration": 2347,
    "start_time": "2022-12-02T07:39:07.822Z"
   },
   {
    "duration": 4,
    "start_time": "2022-12-02T07:39:10.170Z"
   },
   {
    "duration": 66,
    "start_time": "2022-12-02T07:39:10.175Z"
   },
   {
    "duration": 37,
    "start_time": "2022-12-02T07:39:10.243Z"
   },
   {
    "duration": 1321,
    "start_time": "2022-12-02T14:04:29.484Z"
   },
   {
    "duration": 258,
    "start_time": "2022-12-02T14:04:30.806Z"
   },
   {
    "duration": 839,
    "start_time": "2022-12-02T14:04:31.065Z"
   },
   {
    "duration": 5,
    "start_time": "2022-12-02T14:04:31.906Z"
   },
   {
    "duration": 46,
    "start_time": "2022-12-02T14:04:31.913Z"
   },
   {
    "duration": 59,
    "start_time": "2022-12-02T14:04:31.960Z"
   },
   {
    "duration": 9,
    "start_time": "2022-12-02T14:04:32.021Z"
   },
   {
    "duration": 368,
    "start_time": "2022-12-02T14:04:32.032Z"
   },
   {
    "duration": 576,
    "start_time": "2022-12-02T14:04:32.403Z"
   },
   {
    "duration": 16,
    "start_time": "2022-12-02T14:04:32.983Z"
   },
   {
    "duration": 45,
    "start_time": "2022-12-02T14:04:33.001Z"
   },
   {
    "duration": 13,
    "start_time": "2022-12-02T14:04:33.047Z"
   },
   {
    "duration": 44,
    "start_time": "2022-12-02T14:04:33.061Z"
   },
   {
    "duration": 295,
    "start_time": "2022-12-02T14:04:33.107Z"
   },
   {
    "duration": 614,
    "start_time": "2022-12-02T14:04:33.403Z"
   },
   {
    "duration": 175,
    "start_time": "2022-12-02T14:04:34.019Z"
   },
   {
    "duration": 3,
    "start_time": "2022-12-02T14:04:34.196Z"
   },
   {
    "duration": 53,
    "start_time": "2022-12-02T14:04:34.201Z"
   },
   {
    "duration": 21,
    "start_time": "2022-12-02T14:04:34.256Z"
   },
   {
    "duration": 37,
    "start_time": "2022-12-02T14:04:34.279Z"
   },
   {
    "duration": 267,
    "start_time": "2022-12-02T14:04:34.317Z"
   },
   {
    "duration": 552,
    "start_time": "2022-12-02T14:04:34.586Z"
   },
   {
    "duration": 5,
    "start_time": "2022-12-02T14:04:35.140Z"
   },
   {
    "duration": 21,
    "start_time": "2022-12-02T14:04:35.147Z"
   },
   {
    "duration": 26,
    "start_time": "2022-12-02T14:04:35.170Z"
   },
   {
    "duration": 34,
    "start_time": "2022-12-02T14:04:35.198Z"
   },
   {
    "duration": 4,
    "start_time": "2022-12-02T14:04:35.235Z"
   },
   {
    "duration": 157,
    "start_time": "2022-12-02T14:04:35.243Z"
   },
   {
    "duration": 145,
    "start_time": "2022-12-02T14:04:35.403Z"
   },
   {
    "duration": 46,
    "start_time": "2022-12-02T14:04:35.550Z"
   },
   {
    "duration": 379,
    "start_time": "2022-12-02T14:04:35.598Z"
   },
   {
    "duration": 100,
    "start_time": "2022-12-02T14:04:35.979Z"
   },
   {
    "duration": 77,
    "start_time": "2022-12-02T14:04:36.080Z"
   },
   {
    "duration": 71,
    "start_time": "2022-12-02T14:04:36.158Z"
   },
   {
    "duration": 73,
    "start_time": "2022-12-02T14:04:36.231Z"
   },
   {
    "duration": 49,
    "start_time": "2022-12-02T14:04:36.312Z"
   },
   {
    "duration": 74,
    "start_time": "2022-12-02T14:04:36.363Z"
   },
   {
    "duration": 59,
    "start_time": "2022-12-02T14:04:36.438Z"
   },
   {
    "duration": 67,
    "start_time": "2022-12-02T14:04:36.499Z"
   },
   {
    "duration": 97,
    "start_time": "2022-12-02T14:04:36.568Z"
   },
   {
    "duration": 2314,
    "start_time": "2022-12-02T14:04:36.666Z"
   },
   {
    "duration": 3,
    "start_time": "2022-12-02T14:04:38.982Z"
   },
   {
    "duration": 70,
    "start_time": "2022-12-02T14:04:38.986Z"
   },
   {
    "duration": 32,
    "start_time": "2022-12-02T14:04:39.058Z"
   },
   {
    "duration": 3,
    "start_time": "2022-12-02T14:06:17.347Z"
   },
   {
    "duration": 15,
    "start_time": "2022-12-02T14:06:21.295Z"
   },
   {
    "duration": 13,
    "start_time": "2022-12-02T14:06:34.725Z"
   },
   {
    "duration": 12,
    "start_time": "2022-12-02T14:06:41.142Z"
   },
   {
    "duration": 14,
    "start_time": "2022-12-02T14:06:45.588Z"
   },
   {
    "duration": 1145,
    "start_time": "2022-12-02T14:09:27.369Z"
   },
   {
    "duration": 297,
    "start_time": "2022-12-02T14:09:28.515Z"
   },
   {
    "duration": 706,
    "start_time": "2022-12-02T14:09:28.814Z"
   },
   {
    "duration": 5,
    "start_time": "2022-12-02T14:09:29.522Z"
   },
   {
    "duration": 46,
    "start_time": "2022-12-02T14:09:29.530Z"
   },
   {
    "duration": 13,
    "start_time": "2022-12-02T14:09:29.578Z"
   },
   {
    "duration": 8,
    "start_time": "2022-12-02T14:09:29.593Z"
   },
   {
    "duration": 258,
    "start_time": "2022-12-02T14:09:29.603Z"
   },
   {
    "duration": 523,
    "start_time": "2022-12-02T14:09:29.862Z"
   },
   {
    "duration": 12,
    "start_time": "2022-12-02T14:09:30.387Z"
   },
   {
    "duration": 52,
    "start_time": "2022-12-02T14:09:30.400Z"
   },
   {
    "duration": 9,
    "start_time": "2022-12-02T14:09:30.454Z"
   },
   {
    "duration": 16,
    "start_time": "2022-12-02T14:09:30.465Z"
   },
   {
    "duration": 252,
    "start_time": "2022-12-02T14:09:30.484Z"
   },
   {
    "duration": 553,
    "start_time": "2022-12-02T14:09:30.738Z"
   },
   {
    "duration": 170,
    "start_time": "2022-12-02T14:09:31.293Z"
   },
   {
    "duration": 12,
    "start_time": "2022-12-02T14:09:31.465Z"
   },
   {
    "duration": 41,
    "start_time": "2022-12-02T14:09:31.478Z"
   },
   {
    "duration": 19,
    "start_time": "2022-12-02T14:09:31.520Z"
   },
   {
    "duration": 42,
    "start_time": "2022-12-02T14:09:31.542Z"
   },
   {
    "duration": 243,
    "start_time": "2022-12-02T14:09:31.586Z"
   },
   {
    "duration": 506,
    "start_time": "2022-12-02T14:09:31.831Z"
   },
   {
    "duration": 4,
    "start_time": "2022-12-02T14:09:32.339Z"
   },
   {
    "duration": 8,
    "start_time": "2022-12-02T14:09:32.345Z"
   },
   {
    "duration": 21,
    "start_time": "2022-12-02T14:09:32.355Z"
   },
   {
    "duration": 28,
    "start_time": "2022-12-02T14:09:32.377Z"
   },
   {
    "duration": 3,
    "start_time": "2022-12-02T14:09:32.406Z"
   },
   {
    "duration": 9,
    "start_time": "2022-12-02T14:09:32.410Z"
   },
   {
    "duration": 37,
    "start_time": "2022-12-02T14:09:32.420Z"
   },
   {
    "duration": 3,
    "start_time": "2022-12-02T14:09:32.459Z"
   },
   {
    "duration": 119,
    "start_time": "2022-12-02T14:09:32.463Z"
   },
   {
    "duration": 93,
    "start_time": "2022-12-02T14:09:32.585Z"
   },
   {
    "duration": 99,
    "start_time": "2022-12-02T14:09:32.681Z"
   },
   {
    "duration": 11,
    "start_time": "2022-12-02T14:09:32.782Z"
   },
   {
    "duration": 20,
    "start_time": "2022-12-02T14:09:32.795Z"
   },
   {
    "duration": 14,
    "start_time": "2022-12-02T14:09:32.817Z"
   },
   {
    "duration": 80,
    "start_time": "2022-12-02T14:09:32.833Z"
   },
   {
    "duration": 32,
    "start_time": "2022-12-02T14:09:32.914Z"
   },
   {
    "duration": 27,
    "start_time": "2022-12-02T14:09:32.948Z"
   },
   {
    "duration": 5,
    "start_time": "2022-12-02T14:09:32.976Z"
   },
   {
    "duration": 3636,
    "start_time": "2022-12-02T14:09:32.984Z"
   },
   {
    "duration": 5,
    "start_time": "2022-12-02T14:09:36.621Z"
   },
   {
    "duration": 8,
    "start_time": "2022-12-02T14:09:36.628Z"
   },
   {
    "duration": 7,
    "start_time": "2022-12-02T14:09:36.638Z"
   },
   {
    "duration": 4,
    "start_time": "2022-12-02T14:11:40.818Z"
   },
   {
    "duration": 13,
    "start_time": "2022-12-02T14:11:42.519Z"
   },
   {
    "duration": 4,
    "start_time": "2022-12-02T14:11:58.691Z"
   },
   {
    "duration": 13,
    "start_time": "2022-12-02T14:12:01.040Z"
   },
   {
    "duration": 5,
    "start_time": "2022-12-02T14:29:28.848Z"
   },
   {
    "duration": 3611,
    "start_time": "2022-12-02T14:30:19.614Z"
   },
   {
    "duration": 1112,
    "start_time": "2022-12-02T14:30:28.961Z"
   },
   {
    "duration": 240,
    "start_time": "2022-12-02T14:30:30.076Z"
   },
   {
    "duration": 1331,
    "start_time": "2022-12-02T14:30:30.319Z"
   },
   {
    "duration": 5,
    "start_time": "2022-12-02T14:30:31.652Z"
   },
   {
    "duration": 58,
    "start_time": "2022-12-02T14:30:31.659Z"
   },
   {
    "duration": 27,
    "start_time": "2022-12-02T14:30:31.719Z"
   },
   {
    "duration": 28,
    "start_time": "2022-12-02T14:30:31.747Z"
   },
   {
    "duration": 262,
    "start_time": "2022-12-02T14:30:31.777Z"
   },
   {
    "duration": 498,
    "start_time": "2022-12-02T14:30:32.040Z"
   },
   {
    "duration": 11,
    "start_time": "2022-12-02T14:30:32.539Z"
   },
   {
    "duration": 45,
    "start_time": "2022-12-02T14:30:32.552Z"
   },
   {
    "duration": 9,
    "start_time": "2022-12-02T14:30:32.599Z"
   },
   {
    "duration": 32,
    "start_time": "2022-12-02T14:30:32.609Z"
   },
   {
    "duration": 291,
    "start_time": "2022-12-02T14:30:32.645Z"
   },
   {
    "duration": 561,
    "start_time": "2022-12-02T14:30:32.938Z"
   },
   {
    "duration": 194,
    "start_time": "2022-12-02T14:30:33.501Z"
   },
   {
    "duration": 4,
    "start_time": "2022-12-02T14:30:33.696Z"
   },
   {
    "duration": 59,
    "start_time": "2022-12-02T14:30:33.702Z"
   },
   {
    "duration": 32,
    "start_time": "2022-12-02T14:30:33.763Z"
   },
   {
    "duration": 19,
    "start_time": "2022-12-02T14:30:33.797Z"
   },
   {
    "duration": 283,
    "start_time": "2022-12-02T14:30:33.818Z"
   },
   {
    "duration": 557,
    "start_time": "2022-12-02T14:30:34.103Z"
   },
   {
    "duration": 4,
    "start_time": "2022-12-02T14:30:34.662Z"
   },
   {
    "duration": 13,
    "start_time": "2022-12-02T14:30:34.668Z"
   },
   {
    "duration": 12,
    "start_time": "2022-12-02T14:30:34.682Z"
   },
   {
    "duration": 33,
    "start_time": "2022-12-02T14:30:34.695Z"
   },
   {
    "duration": 3,
    "start_time": "2022-12-02T14:30:34.730Z"
   },
   {
    "duration": 7,
    "start_time": "2022-12-02T14:30:34.734Z"
   },
   {
    "duration": 47,
    "start_time": "2022-12-02T14:30:34.742Z"
   },
   {
    "duration": 3,
    "start_time": "2022-12-02T14:30:34.791Z"
   },
   {
    "duration": 181,
    "start_time": "2022-12-02T14:30:34.796Z"
   },
   {
    "duration": 101,
    "start_time": "2022-12-02T14:30:34.979Z"
   },
   {
    "duration": 24,
    "start_time": "2022-12-02T14:30:35.082Z"
   },
   {
    "duration": 9,
    "start_time": "2022-12-02T14:30:35.108Z"
   },
   {
    "duration": 16,
    "start_time": "2022-12-02T14:30:35.119Z"
   },
   {
    "duration": 23,
    "start_time": "2022-12-02T14:30:35.136Z"
   },
   {
    "duration": 10,
    "start_time": "2022-12-02T14:30:35.162Z"
   },
   {
    "duration": 24,
    "start_time": "2022-12-02T14:30:35.174Z"
   },
   {
    "duration": 21,
    "start_time": "2022-12-02T14:30:35.200Z"
   },
   {
    "duration": 8,
    "start_time": "2022-12-02T14:30:35.222Z"
   },
   {
    "duration": 3708,
    "start_time": "2022-12-02T14:30:35.236Z"
   },
   {
    "duration": 4,
    "start_time": "2022-12-02T14:30:38.946Z"
   },
   {
    "duration": 10,
    "start_time": "2022-12-02T14:30:38.952Z"
   },
   {
    "duration": 3,
    "start_time": "2022-12-02T14:30:38.976Z"
   },
   {
    "duration": 57,
    "start_time": "2022-12-02T14:36:18.444Z"
   },
   {
    "duration": 1138,
    "start_time": "2022-12-02T14:36:26.720Z"
   },
   {
    "duration": 217,
    "start_time": "2022-12-02T14:36:27.860Z"
   },
   {
    "duration": 1493,
    "start_time": "2022-12-02T14:36:28.082Z"
   },
   {
    "duration": 5,
    "start_time": "2022-12-02T14:36:29.577Z"
   },
   {
    "duration": 45,
    "start_time": "2022-12-02T14:36:29.584Z"
   },
   {
    "duration": 14,
    "start_time": "2022-12-02T14:36:29.630Z"
   },
   {
    "duration": 31,
    "start_time": "2022-12-02T14:36:29.646Z"
   },
   {
    "duration": 274,
    "start_time": "2022-12-02T14:36:29.679Z"
   },
   {
    "duration": 534,
    "start_time": "2022-12-02T14:36:29.955Z"
   },
   {
    "duration": 13,
    "start_time": "2022-12-02T14:36:30.490Z"
   },
   {
    "duration": 51,
    "start_time": "2022-12-02T14:36:30.505Z"
   },
   {
    "duration": 9,
    "start_time": "2022-12-02T14:36:30.558Z"
   },
   {
    "duration": 23,
    "start_time": "2022-12-02T14:36:30.569Z"
   },
   {
    "duration": 256,
    "start_time": "2022-12-02T14:36:30.594Z"
   },
   {
    "duration": 588,
    "start_time": "2022-12-02T14:36:30.852Z"
   },
   {
    "duration": 179,
    "start_time": "2022-12-02T14:36:31.442Z"
   },
   {
    "duration": 4,
    "start_time": "2022-12-02T14:36:31.622Z"
   },
   {
    "duration": 52,
    "start_time": "2022-12-02T14:36:31.628Z"
   },
   {
    "duration": 9,
    "start_time": "2022-12-02T14:36:31.682Z"
   },
   {
    "duration": 28,
    "start_time": "2022-12-02T14:36:31.693Z"
   },
   {
    "duration": 272,
    "start_time": "2022-12-02T14:36:31.723Z"
   },
   {
    "duration": 508,
    "start_time": "2022-12-02T14:36:31.996Z"
   },
   {
    "duration": 5,
    "start_time": "2022-12-02T14:36:32.506Z"
   },
   {
    "duration": 39,
    "start_time": "2022-12-02T14:36:32.513Z"
   },
   {
    "duration": 32,
    "start_time": "2022-12-02T14:36:32.554Z"
   },
   {
    "duration": 36,
    "start_time": "2022-12-02T14:36:32.587Z"
   },
   {
    "duration": 6,
    "start_time": "2022-12-02T14:36:32.626Z"
   },
   {
    "duration": 27,
    "start_time": "2022-12-02T14:36:32.633Z"
   },
   {
    "duration": 31,
    "start_time": "2022-12-02T14:36:32.662Z"
   },
   {
    "duration": 4,
    "start_time": "2022-12-02T14:36:32.694Z"
   },
   {
    "duration": 90,
    "start_time": "2022-12-02T14:36:32.699Z"
   },
   {
    "duration": 10,
    "start_time": "2022-12-02T14:36:32.878Z"
   },
   {
    "duration": 98,
    "start_time": "2022-12-02T14:36:32.890Z"
   },
   {
    "duration": 4,
    "start_time": "2022-12-02T14:36:32.989Z"
   },
   {
    "duration": 5,
    "start_time": "2022-12-02T14:36:32.995Z"
   },
   {
    "duration": 7,
    "start_time": "2022-12-02T14:36:33.001Z"
   },
   {
    "duration": 9,
    "start_time": "2022-12-02T14:36:33.010Z"
   },
   {
    "duration": 9,
    "start_time": "2022-12-02T14:36:33.021Z"
   },
   {
    "duration": 25,
    "start_time": "2022-12-02T14:36:33.031Z"
   },
   {
    "duration": 7,
    "start_time": "2022-12-02T14:36:33.058Z"
   },
   {
    "duration": 4046,
    "start_time": "2022-12-02T14:36:33.067Z"
   },
   {
    "duration": 4,
    "start_time": "2022-12-02T14:36:37.115Z"
   },
   {
    "duration": 10,
    "start_time": "2022-12-02T14:36:37.120Z"
   },
   {
    "duration": 7,
    "start_time": "2022-12-02T14:36:37.131Z"
   },
   {
    "duration": 1249,
    "start_time": "2022-12-02T16:10:17.456Z"
   },
   {
    "duration": 674,
    "start_time": "2022-12-02T16:10:18.707Z"
   },
   {
    "duration": 1036,
    "start_time": "2022-12-02T16:10:19.383Z"
   },
   {
    "duration": 6,
    "start_time": "2022-12-02T16:10:20.422Z"
   },
   {
    "duration": 46,
    "start_time": "2022-12-02T16:10:20.430Z"
   },
   {
    "duration": 21,
    "start_time": "2022-12-02T16:10:20.477Z"
   },
   {
    "duration": 12,
    "start_time": "2022-12-02T16:10:20.499Z"
   },
   {
    "duration": 332,
    "start_time": "2022-12-02T16:10:20.512Z"
   },
   {
    "duration": 516,
    "start_time": "2022-12-02T16:10:20.845Z"
   },
   {
    "duration": 12,
    "start_time": "2022-12-02T16:10:21.363Z"
   },
   {
    "duration": 43,
    "start_time": "2022-12-02T16:10:21.376Z"
   },
   {
    "duration": 9,
    "start_time": "2022-12-02T16:10:21.421Z"
   },
   {
    "duration": 9,
    "start_time": "2022-12-02T16:10:21.431Z"
   },
   {
    "duration": 258,
    "start_time": "2022-12-02T16:10:21.442Z"
   },
   {
    "duration": 633,
    "start_time": "2022-12-02T16:10:21.702Z"
   },
   {
    "duration": 169,
    "start_time": "2022-12-02T16:10:22.337Z"
   },
   {
    "duration": 4,
    "start_time": "2022-12-02T16:10:22.507Z"
   },
   {
    "duration": 36,
    "start_time": "2022-12-02T16:10:22.513Z"
   },
   {
    "duration": 9,
    "start_time": "2022-12-02T16:10:22.551Z"
   },
   {
    "duration": 36,
    "start_time": "2022-12-02T16:10:22.562Z"
   },
   {
    "duration": 246,
    "start_time": "2022-12-02T16:10:22.600Z"
   },
   {
    "duration": 502,
    "start_time": "2022-12-02T16:10:22.848Z"
   },
   {
    "duration": 4,
    "start_time": "2022-12-02T16:10:23.352Z"
   },
   {
    "duration": 10,
    "start_time": "2022-12-02T16:10:23.357Z"
   },
   {
    "duration": 9,
    "start_time": "2022-12-02T16:10:23.369Z"
   },
   {
    "duration": 39,
    "start_time": "2022-12-02T16:10:23.380Z"
   },
   {
    "duration": 31,
    "start_time": "2022-12-02T16:10:23.421Z"
   },
   {
    "duration": 26,
    "start_time": "2022-12-02T16:10:23.455Z"
   },
   {
    "duration": 44,
    "start_time": "2022-12-02T16:10:23.483Z"
   },
   {
    "duration": 5,
    "start_time": "2022-12-02T16:10:23.528Z"
   },
   {
    "duration": 266,
    "start_time": "2022-12-02T16:10:23.534Z"
   },
   {
    "duration": 94,
    "start_time": "2022-12-02T16:10:23.805Z"
   },
   {
    "duration": 9,
    "start_time": "2022-12-02T16:10:23.901Z"
   },
   {
    "duration": 4,
    "start_time": "2022-12-02T16:10:23.911Z"
   },
   {
    "duration": 8,
    "start_time": "2022-12-02T16:10:23.917Z"
   },
   {
    "duration": 18,
    "start_time": "2022-12-02T16:10:23.927Z"
   },
   {
    "duration": 9,
    "start_time": "2022-12-02T16:10:23.946Z"
   },
   {
    "duration": 10,
    "start_time": "2022-12-02T16:10:23.956Z"
   },
   {
    "duration": 19,
    "start_time": "2022-12-02T16:10:23.968Z"
   },
   {
    "duration": 8,
    "start_time": "2022-12-02T16:10:23.989Z"
   },
   {
    "duration": 3809,
    "start_time": "2022-12-02T16:10:23.999Z"
   },
   {
    "duration": 5,
    "start_time": "2022-12-02T16:10:27.811Z"
   },
   {
    "duration": 14,
    "start_time": "2022-12-02T16:10:27.817Z"
   },
   {
    "duration": 11,
    "start_time": "2022-12-02T16:10:27.832Z"
   },
   {
    "duration": 312,
    "start_time": "2022-12-02T16:13:57.272Z"
   },
   {
    "duration": 8,
    "start_time": "2022-12-02T16:16:59.955Z"
   },
   {
    "duration": 8,
    "start_time": "2022-12-02T16:17:52.019Z"
   },
   {
    "duration": 8,
    "start_time": "2022-12-02T16:19:03.163Z"
   },
   {
    "duration": 8,
    "start_time": "2022-12-02T16:19:51.395Z"
   },
   {
    "duration": 115,
    "start_time": "2022-12-02T16:20:18.090Z"
   },
   {
    "duration": 7,
    "start_time": "2022-12-02T16:21:11.312Z"
   },
   {
    "duration": 7,
    "start_time": "2022-12-02T16:21:28.371Z"
   },
   {
    "duration": 6,
    "start_time": "2022-12-02T16:23:13.844Z"
   },
   {
    "duration": 1131,
    "start_time": "2022-12-02T16:30:58.778Z"
   },
   {
    "duration": 571,
    "start_time": "2022-12-02T16:30:59.911Z"
   },
   {
    "duration": 1119,
    "start_time": "2022-12-02T16:31:00.483Z"
   },
   {
    "duration": 5,
    "start_time": "2022-12-02T16:31:01.605Z"
   },
   {
    "duration": 74,
    "start_time": "2022-12-02T16:31:01.611Z"
   },
   {
    "duration": 13,
    "start_time": "2022-12-02T16:31:01.686Z"
   },
   {
    "duration": 9,
    "start_time": "2022-12-02T16:31:01.701Z"
   },
   {
    "duration": 261,
    "start_time": "2022-12-02T16:31:01.711Z"
   },
   {
    "duration": 315,
    "start_time": "2022-12-02T16:31:01.974Z"
   },
   {
    "duration": 502,
    "start_time": "2022-12-02T16:31:02.297Z"
   },
   {
    "duration": 15,
    "start_time": "2022-12-02T16:31:02.800Z"
   },
   {
    "duration": 39,
    "start_time": "2022-12-02T16:31:02.816Z"
   },
   {
    "duration": 8,
    "start_time": "2022-12-02T16:31:02.856Z"
   },
   {
    "duration": 10,
    "start_time": "2022-12-02T16:31:02.865Z"
   },
   {
    "duration": 354,
    "start_time": "2022-12-02T16:31:02.876Z"
   },
   {
    "duration": 459,
    "start_time": "2022-12-02T16:31:03.231Z"
   },
   {
    "duration": 162,
    "start_time": "2022-12-02T16:31:03.692Z"
   },
   {
    "duration": 4,
    "start_time": "2022-12-02T16:31:03.856Z"
   },
   {
    "duration": 49,
    "start_time": "2022-12-02T16:31:03.861Z"
   },
   {
    "duration": 11,
    "start_time": "2022-12-02T16:31:03.911Z"
   },
   {
    "duration": 12,
    "start_time": "2022-12-02T16:31:03.924Z"
   },
   {
    "duration": 286,
    "start_time": "2022-12-02T16:31:03.943Z"
   },
   {
    "duration": 519,
    "start_time": "2022-12-02T16:31:04.231Z"
   },
   {
    "duration": 5,
    "start_time": "2022-12-02T16:31:04.752Z"
   },
   {
    "duration": 11,
    "start_time": "2022-12-02T16:31:04.758Z"
   },
   {
    "duration": 12,
    "start_time": "2022-12-02T16:31:04.771Z"
   },
   {
    "duration": 46,
    "start_time": "2022-12-02T16:31:04.785Z"
   },
   {
    "duration": 6,
    "start_time": "2022-12-02T16:31:04.835Z"
   },
   {
    "duration": 31,
    "start_time": "2022-12-02T16:31:04.843Z"
   },
   {
    "duration": 33,
    "start_time": "2022-12-02T16:31:04.875Z"
   },
   {
    "duration": 3,
    "start_time": "2022-12-02T16:31:04.909Z"
   },
   {
    "duration": 87,
    "start_time": "2022-12-02T16:31:04.914Z"
   },
   {
    "duration": 6,
    "start_time": "2022-12-02T16:31:05.004Z"
   },
   {
    "duration": 106,
    "start_time": "2022-12-02T16:31:05.098Z"
   },
   {
    "duration": 5,
    "start_time": "2022-12-02T16:31:05.206Z"
   },
   {
    "duration": 7,
    "start_time": "2022-12-02T16:31:05.213Z"
   },
   {
    "duration": 10,
    "start_time": "2022-12-02T16:31:05.222Z"
   },
   {
    "duration": 10,
    "start_time": "2022-12-02T16:31:05.233Z"
   },
   {
    "duration": 5,
    "start_time": "2022-12-02T16:31:05.245Z"
   },
   {
    "duration": 16,
    "start_time": "2022-12-02T16:31:05.251Z"
   },
   {
    "duration": 7,
    "start_time": "2022-12-02T16:31:05.268Z"
   },
   {
    "duration": 4,
    "start_time": "2022-12-02T16:31:05.276Z"
   },
   {
    "duration": 3451,
    "start_time": "2022-12-02T16:31:05.281Z"
   },
   {
    "duration": 4,
    "start_time": "2022-12-02T16:31:08.733Z"
   },
   {
    "duration": 8,
    "start_time": "2022-12-02T16:31:08.738Z"
   },
   {
    "duration": 7,
    "start_time": "2022-12-02T16:31:08.748Z"
   }
  ],
  "kernelspec": {
   "display_name": "Python 3 (ipykernel)",
   "language": "python",
   "name": "python3"
  },
  "language_info": {
   "codemirror_mode": {
    "name": "ipython",
    "version": 3
   },
   "file_extension": ".py",
   "mimetype": "text/x-python",
   "name": "python",
   "nbconvert_exporter": "python",
   "pygments_lexer": "ipython3",
   "version": "3.9.12"
  },
  "toc": {
   "base_numbering": 1,
   "nav_menu": {},
   "number_sections": true,
   "sideBar": true,
   "skip_h1_title": true,
   "title_cell": "Table of Contents",
   "title_sidebar": "Contents",
   "toc_cell": false,
   "toc_position": {},
   "toc_section_display": true,
   "toc_window_display": true
  }
 },
 "nbformat": 4,
 "nbformat_minor": 2
}
